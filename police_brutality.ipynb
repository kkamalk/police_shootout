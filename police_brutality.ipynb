{
 "nbformat": 4,
 "nbformat_minor": 0,
 "metadata": {
  "colab": {
   "provenance": []
  },
  "kernelspec": {
   "name": "python3",
   "display_name": "Python 3"
  },
  "language_info": {
   "name": "python"
  }
 },
 "cells": [
  {
   "cell_type": "markdown",
   "source": [
    "# **Fatal Police Shootings, 2015-Present**\n",
    "\n",
    "\n"
   ],
   "metadata": {
    "id": "YD0YZBakrqy4"
   }
  },
  {
   "cell_type": "markdown",
   "source": [
    "## **1.Introduction**"
   ],
   "metadata": {
    "id": "rOGbdX-6vWgn"
   }
  },
  {
   "cell_type": "markdown",
   "source": [
    "This project will take a look at killings that took place at the hands of police officers in the United States from the beginning of 2015 to into February 2017.\n"
   ],
   "metadata": {
    "id": "Cy62tcx6xTyx"
   }
  },
  {
   "cell_type": "markdown",
   "source": [
    "### **1.1 Dataset**"
   ],
   "metadata": {
    "id": "fZ9vrET7xkb_"
   }
  },
  {
   "cell_type": "markdown",
   "source": [
    "The Dataset information can be found here [police dataseet](https://www.kaggle.com/datasets/washingtonpost/police-shootings)"
   ],
   "metadata": {
    "id": "3MIsiXxxygYd"
   }
  },
  {
   "cell_type": "markdown",
   "source": [
    "### **1.2 Goal**"
   ],
   "metadata": {
    "id": "4wNa8WpozUVy"
   }
  },
  {
   "cell_type": "markdown",
   "source": [
    "The main goal is to explore the data,and  list the issues with the police activity and propose a plan which issues to tackle first and how."
   ],
   "metadata": {
    "id": "TlAxVhtiziNa"
   }
  },
  {
   "cell_type": "markdown",
   "source": [
    "## **2.Import and Loading Data**\n",
    "\n"
   ],
   "metadata": {
    "id": "5Q_u-xr1yDKf"
   }
  },
  {
   "cell_type": "code",
   "source": [
    "import pandas as pd\n",
    "import numpy as np\n",
    "import matplotlib.pyplot as plt\n",
    "\n",
    "%matplotlib inline\n",
    "import seaborn as sns\n",
    "\n",
    "sns.set_theme(style=\"whitegrid\")\n",
    "import scipy.stats as st\n",
    "import plotly.express as px\n",
    "import warnings\n",
    "\n",
    "warnings.filterwarnings(\"ignore\")"
   ],
   "metadata": {
    "id": "OUzs0KZQxRMR"
   },
   "execution_count": 96,
   "outputs": []
  },
  {
   "cell_type": "code",
   "source": [
    "df = pd.read_csv(\"/content/database.csv\")"
   ],
   "metadata": {
    "id": "YbVmwSdszzm2"
   },
   "execution_count": 97,
   "outputs": []
  },
  {
   "cell_type": "markdown",
   "source": [
    "## **3.Basic Checks**"
   ],
   "metadata": {
    "id": "EUUmpBo60gDj"
   }
  },
  {
   "cell_type": "code",
   "source": [
    "df.head()"
   ],
   "metadata": {
    "colab": {
     "base_uri": "https://localhost:8080/",
     "height": 357
    },
    "id": "wF47tg4g0Wsy",
    "outputId": "429a68d7-dc48-42fc-d987-831c1bd23160"
   },
   "execution_count": 98,
   "outputs": [
    {
     "output_type": "execute_result",
     "data": {
      "text/plain": [
       "   id                name        date   manner_of_death       armed   age  \\\n",
       "0   3          Tim Elliot  2015-01-02              shot         gun  53.0   \n",
       "1   4    Lewis Lee Lembke  2015-01-02              shot         gun  47.0   \n",
       "2   5  John Paul Quintero  2015-01-03  shot and Tasered     unarmed  23.0   \n",
       "3   8     Matthew Hoffman  2015-01-04              shot  toy weapon  32.0   \n",
       "4   9   Michael Rodriguez  2015-01-04              shot    nail gun  39.0   \n",
       "\n",
       "  gender race           city state  signs_of_mental_illness threat_level  \\\n",
       "0      M    A        Shelton    WA                     True       attack   \n",
       "1      M    W          Aloha    OR                    False       attack   \n",
       "2      M    H        Wichita    KS                    False        other   \n",
       "3      M    W  San Francisco    CA                     True       attack   \n",
       "4      M    H          Evans    CO                    False       attack   \n",
       "\n",
       "          flee  body_camera  \n",
       "0  Not fleeing        False  \n",
       "1  Not fleeing        False  \n",
       "2  Not fleeing        False  \n",
       "3  Not fleeing        False  \n",
       "4  Not fleeing        False  "
      ],
      "text/html": [
       "\n",
       "  <div id=\"df-086c58dd-8e98-4099-86d4-e45b67ea818c\">\n",
       "    <div class=\"colab-df-container\">\n",
       "      <div>\n",
       "<style scoped>\n",
       "    .dataframe tbody tr th:only-of-type {\n",
       "        vertical-align: middle;\n",
       "    }\n",
       "\n",
       "    .dataframe tbody tr th {\n",
       "        vertical-align: top;\n",
       "    }\n",
       "\n",
       "    .dataframe thead th {\n",
       "        text-align: right;\n",
       "    }\n",
       "</style>\n",
       "<table border=\"1\" class=\"dataframe\">\n",
       "  <thead>\n",
       "    <tr style=\"text-align: right;\">\n",
       "      <th></th>\n",
       "      <th>id</th>\n",
       "      <th>name</th>\n",
       "      <th>date</th>\n",
       "      <th>manner_of_death</th>\n",
       "      <th>armed</th>\n",
       "      <th>age</th>\n",
       "      <th>gender</th>\n",
       "      <th>race</th>\n",
       "      <th>city</th>\n",
       "      <th>state</th>\n",
       "      <th>signs_of_mental_illness</th>\n",
       "      <th>threat_level</th>\n",
       "      <th>flee</th>\n",
       "      <th>body_camera</th>\n",
       "    </tr>\n",
       "  </thead>\n",
       "  <tbody>\n",
       "    <tr>\n",
       "      <th>0</th>\n",
       "      <td>3</td>\n",
       "      <td>Tim Elliot</td>\n",
       "      <td>2015-01-02</td>\n",
       "      <td>shot</td>\n",
       "      <td>gun</td>\n",
       "      <td>53.0</td>\n",
       "      <td>M</td>\n",
       "      <td>A</td>\n",
       "      <td>Shelton</td>\n",
       "      <td>WA</td>\n",
       "      <td>True</td>\n",
       "      <td>attack</td>\n",
       "      <td>Not fleeing</td>\n",
       "      <td>False</td>\n",
       "    </tr>\n",
       "    <tr>\n",
       "      <th>1</th>\n",
       "      <td>4</td>\n",
       "      <td>Lewis Lee Lembke</td>\n",
       "      <td>2015-01-02</td>\n",
       "      <td>shot</td>\n",
       "      <td>gun</td>\n",
       "      <td>47.0</td>\n",
       "      <td>M</td>\n",
       "      <td>W</td>\n",
       "      <td>Aloha</td>\n",
       "      <td>OR</td>\n",
       "      <td>False</td>\n",
       "      <td>attack</td>\n",
       "      <td>Not fleeing</td>\n",
       "      <td>False</td>\n",
       "    </tr>\n",
       "    <tr>\n",
       "      <th>2</th>\n",
       "      <td>5</td>\n",
       "      <td>John Paul Quintero</td>\n",
       "      <td>2015-01-03</td>\n",
       "      <td>shot and Tasered</td>\n",
       "      <td>unarmed</td>\n",
       "      <td>23.0</td>\n",
       "      <td>M</td>\n",
       "      <td>H</td>\n",
       "      <td>Wichita</td>\n",
       "      <td>KS</td>\n",
       "      <td>False</td>\n",
       "      <td>other</td>\n",
       "      <td>Not fleeing</td>\n",
       "      <td>False</td>\n",
       "    </tr>\n",
       "    <tr>\n",
       "      <th>3</th>\n",
       "      <td>8</td>\n",
       "      <td>Matthew Hoffman</td>\n",
       "      <td>2015-01-04</td>\n",
       "      <td>shot</td>\n",
       "      <td>toy weapon</td>\n",
       "      <td>32.0</td>\n",
       "      <td>M</td>\n",
       "      <td>W</td>\n",
       "      <td>San Francisco</td>\n",
       "      <td>CA</td>\n",
       "      <td>True</td>\n",
       "      <td>attack</td>\n",
       "      <td>Not fleeing</td>\n",
       "      <td>False</td>\n",
       "    </tr>\n",
       "    <tr>\n",
       "      <th>4</th>\n",
       "      <td>9</td>\n",
       "      <td>Michael Rodriguez</td>\n",
       "      <td>2015-01-04</td>\n",
       "      <td>shot</td>\n",
       "      <td>nail gun</td>\n",
       "      <td>39.0</td>\n",
       "      <td>M</td>\n",
       "      <td>H</td>\n",
       "      <td>Evans</td>\n",
       "      <td>CO</td>\n",
       "      <td>False</td>\n",
       "      <td>attack</td>\n",
       "      <td>Not fleeing</td>\n",
       "      <td>False</td>\n",
       "    </tr>\n",
       "  </tbody>\n",
       "</table>\n",
       "</div>\n",
       "      <button class=\"colab-df-convert\" onclick=\"convertToInteractive('df-086c58dd-8e98-4099-86d4-e45b67ea818c')\"\n",
       "              title=\"Convert this dataframe to an interactive table.\"\n",
       "              style=\"display:none;\">\n",
       "        \n",
       "  <svg xmlns=\"http://www.w3.org/2000/svg\" height=\"24px\"viewBox=\"0 0 24 24\"\n",
       "       width=\"24px\">\n",
       "    <path d=\"M0 0h24v24H0V0z\" fill=\"none\"/>\n",
       "    <path d=\"M18.56 5.44l.94 2.06.94-2.06 2.06-.94-2.06-.94-.94-2.06-.94 2.06-2.06.94zm-11 1L8.5 8.5l.94-2.06 2.06-.94-2.06-.94L8.5 2.5l-.94 2.06-2.06.94zm10 10l.94 2.06.94-2.06 2.06-.94-2.06-.94-.94-2.06-.94 2.06-2.06.94z\"/><path d=\"M17.41 7.96l-1.37-1.37c-.4-.4-.92-.59-1.43-.59-.52 0-1.04.2-1.43.59L10.3 9.45l-7.72 7.72c-.78.78-.78 2.05 0 2.83L4 21.41c.39.39.9.59 1.41.59.51 0 1.02-.2 1.41-.59l7.78-7.78 2.81-2.81c.8-.78.8-2.07 0-2.86zM5.41 20L4 18.59l7.72-7.72 1.47 1.35L5.41 20z\"/>\n",
       "  </svg>\n",
       "      </button>\n",
       "      \n",
       "  <style>\n",
       "    .colab-df-container {\n",
       "      display:flex;\n",
       "      flex-wrap:wrap;\n",
       "      gap: 12px;\n",
       "    }\n",
       "\n",
       "    .colab-df-convert {\n",
       "      background-color: #E8F0FE;\n",
       "      border: none;\n",
       "      border-radius: 50%;\n",
       "      cursor: pointer;\n",
       "      display: none;\n",
       "      fill: #1967D2;\n",
       "      height: 32px;\n",
       "      padding: 0 0 0 0;\n",
       "      width: 32px;\n",
       "    }\n",
       "\n",
       "    .colab-df-convert:hover {\n",
       "      background-color: #E2EBFA;\n",
       "      box-shadow: 0px 1px 2px rgba(60, 64, 67, 0.3), 0px 1px 3px 1px rgba(60, 64, 67, 0.15);\n",
       "      fill: #174EA6;\n",
       "    }\n",
       "\n",
       "    [theme=dark] .colab-df-convert {\n",
       "      background-color: #3B4455;\n",
       "      fill: #D2E3FC;\n",
       "    }\n",
       "\n",
       "    [theme=dark] .colab-df-convert:hover {\n",
       "      background-color: #434B5C;\n",
       "      box-shadow: 0px 1px 3px 1px rgba(0, 0, 0, 0.15);\n",
       "      filter: drop-shadow(0px 1px 2px rgba(0, 0, 0, 0.3));\n",
       "      fill: #FFFFFF;\n",
       "    }\n",
       "  </style>\n",
       "\n",
       "      <script>\n",
       "        const buttonEl =\n",
       "          document.querySelector('#df-086c58dd-8e98-4099-86d4-e45b67ea818c button.colab-df-convert');\n",
       "        buttonEl.style.display =\n",
       "          google.colab.kernel.accessAllowed ? 'block' : 'none';\n",
       "\n",
       "        async function convertToInteractive(key) {\n",
       "          const element = document.querySelector('#df-086c58dd-8e98-4099-86d4-e45b67ea818c');\n",
       "          const dataTable =\n",
       "            await google.colab.kernel.invokeFunction('convertToInteractive',\n",
       "                                                     [key], {});\n",
       "          if (!dataTable) return;\n",
       "\n",
       "          const docLinkHtml = 'Like what you see? Visit the ' +\n",
       "            '<a target=\"_blank\" href=https://colab.research.google.com/notebooks/data_table.ipynb>data table notebook</a>'\n",
       "            + ' to learn more about interactive tables.';\n",
       "          element.innerHTML = '';\n",
       "          dataTable['output_type'] = 'display_data';\n",
       "          await google.colab.output.renderOutput(dataTable, element);\n",
       "          const docLink = document.createElement('div');\n",
       "          docLink.innerHTML = docLinkHtml;\n",
       "          element.appendChild(docLink);\n",
       "        }\n",
       "      </script>\n",
       "    </div>\n",
       "  </div>\n",
       "  "
      ]
     },
     "metadata": {},
     "execution_count": 98
    }
   ]
  },
  {
   "cell_type": "code",
   "source": [
    "df.info()"
   ],
   "metadata": {
    "colab": {
     "base_uri": "https://localhost:8080/"
    },
    "id": "O3MEl0mV0pZt",
    "outputId": "10e8480f-dcff-482f-ecd3-d4eae510ce28"
   },
   "execution_count": 99,
   "outputs": [
    {
     "output_type": "stream",
     "name": "stdout",
     "text": [
      "<class 'pandas.core.frame.DataFrame'>\n",
      "RangeIndex: 2142 entries, 0 to 2141\n",
      "Data columns (total 14 columns):\n",
      " #   Column                   Non-Null Count  Dtype  \n",
      "---  ------                   --------------  -----  \n",
      " 0   id                       2142 non-null   int64  \n",
      " 1   name                     2123 non-null   object \n",
      " 2   date                     2142 non-null   object \n",
      " 3   manner_of_death          2142 non-null   object \n",
      " 4   armed                    2136 non-null   object \n",
      " 5   age                      2099 non-null   float64\n",
      " 6   gender                   2141 non-null   object \n",
      " 7   race                     2039 non-null   object \n",
      " 8   city                     2142 non-null   object \n",
      " 9   state                    2142 non-null   object \n",
      " 10  signs_of_mental_illness  2142 non-null   bool   \n",
      " 11  threat_level             2142 non-null   object \n",
      " 12  flee                     2106 non-null   object \n",
      " 13  body_camera              2142 non-null   bool   \n",
      "dtypes: bool(2), float64(1), int64(1), object(10)\n",
      "memory usage: 205.1+ KB\n"
     ]
    }
   ]
  },
  {
   "cell_type": "markdown",
   "source": [
    "The dataset gives the impressions of each case and discusses the various factors involved in police brutality such as race, manner of death and city and so on.\n"
   ],
   "metadata": {
    "id": "IjItxSts1RVM"
   }
  },
  {
   "cell_type": "code",
   "source": [
    "df.shape"
   ],
   "metadata": {
    "colab": {
     "base_uri": "https://localhost:8080/"
    },
    "id": "d3xImxFq1DKt",
    "outputId": "16c44312-bacc-4679-8531-0017c9c307c1"
   },
   "execution_count": 100,
   "outputs": [
    {
     "output_type": "execute_result",
     "data": {
      "text/plain": [
       "(2142, 14)"
      ]
     },
     "metadata": {},
     "execution_count": 100
    }
   ]
  },
  {
   "cell_type": "markdown",
   "source": [
    "The Dataset has 2142 records with 14 features"
   ],
   "metadata": {
    "id": "b8H-gV_d2Dl1"
   }
  },
  {
   "cell_type": "markdown",
   "source": [
    "## **4.Data Wrangling**"
   ],
   "metadata": {
    "id": "AivlMef52V_M"
   }
  },
  {
   "cell_type": "markdown",
   "source": [
    "### **4.1 Data Cleaning**"
   ],
   "metadata": {
    "id": "4ZhWLG8m2dT-"
   }
  },
  {
   "cell_type": "code",
   "source": [
    "# race colums has some abbrevations replacing with real meanings\n",
    "df = df.replace(\n",
    "    {\n",
    "        \"race\": {\n",
    "            \"W\": \"White\",\n",
    "            \"B\": \"Black\",\n",
    "            \"A\": \"Asian\",\n",
    "            \"H\": \"Hispanic\",\n",
    "            \"O\": \"Other\",\n",
    "            \"N\": \"Native\",\n",
    "        }\n",
    "    }\n",
    ")"
   ],
   "metadata": {
    "id": "b5R8hBTk2bt1"
   },
   "execution_count": 101,
   "outputs": []
  },
  {
   "cell_type": "code",
   "source": [
    "df.head()"
   ],
   "metadata": {
    "colab": {
     "base_uri": "https://localhost:8080/",
     "height": 357
    },
    "id": "A9UT5nHt283T",
    "outputId": "7df898af-c02b-48f5-cb27-a8c78e571cf4"
   },
   "execution_count": 102,
   "outputs": [
    {
     "output_type": "execute_result",
     "data": {
      "text/plain": [
       "   id                name        date   manner_of_death       armed   age  \\\n",
       "0   3          Tim Elliot  2015-01-02              shot         gun  53.0   \n",
       "1   4    Lewis Lee Lembke  2015-01-02              shot         gun  47.0   \n",
       "2   5  John Paul Quintero  2015-01-03  shot and Tasered     unarmed  23.0   \n",
       "3   8     Matthew Hoffman  2015-01-04              shot  toy weapon  32.0   \n",
       "4   9   Michael Rodriguez  2015-01-04              shot    nail gun  39.0   \n",
       "\n",
       "  gender      race           city state  signs_of_mental_illness threat_level  \\\n",
       "0      M     Asian        Shelton    WA                     True       attack   \n",
       "1      M     White          Aloha    OR                    False       attack   \n",
       "2      M  Hispanic        Wichita    KS                    False        other   \n",
       "3      M     White  San Francisco    CA                     True       attack   \n",
       "4      M  Hispanic          Evans    CO                    False       attack   \n",
       "\n",
       "          flee  body_camera  \n",
       "0  Not fleeing        False  \n",
       "1  Not fleeing        False  \n",
       "2  Not fleeing        False  \n",
       "3  Not fleeing        False  \n",
       "4  Not fleeing        False  "
      ],
      "text/html": [
       "\n",
       "  <div id=\"df-d93b1644-dd3a-4afd-8f47-64b60748eb91\">\n",
       "    <div class=\"colab-df-container\">\n",
       "      <div>\n",
       "<style scoped>\n",
       "    .dataframe tbody tr th:only-of-type {\n",
       "        vertical-align: middle;\n",
       "    }\n",
       "\n",
       "    .dataframe tbody tr th {\n",
       "        vertical-align: top;\n",
       "    }\n",
       "\n",
       "    .dataframe thead th {\n",
       "        text-align: right;\n",
       "    }\n",
       "</style>\n",
       "<table border=\"1\" class=\"dataframe\">\n",
       "  <thead>\n",
       "    <tr style=\"text-align: right;\">\n",
       "      <th></th>\n",
       "      <th>id</th>\n",
       "      <th>name</th>\n",
       "      <th>date</th>\n",
       "      <th>manner_of_death</th>\n",
       "      <th>armed</th>\n",
       "      <th>age</th>\n",
       "      <th>gender</th>\n",
       "      <th>race</th>\n",
       "      <th>city</th>\n",
       "      <th>state</th>\n",
       "      <th>signs_of_mental_illness</th>\n",
       "      <th>threat_level</th>\n",
       "      <th>flee</th>\n",
       "      <th>body_camera</th>\n",
       "    </tr>\n",
       "  </thead>\n",
       "  <tbody>\n",
       "    <tr>\n",
       "      <th>0</th>\n",
       "      <td>3</td>\n",
       "      <td>Tim Elliot</td>\n",
       "      <td>2015-01-02</td>\n",
       "      <td>shot</td>\n",
       "      <td>gun</td>\n",
       "      <td>53.0</td>\n",
       "      <td>M</td>\n",
       "      <td>Asian</td>\n",
       "      <td>Shelton</td>\n",
       "      <td>WA</td>\n",
       "      <td>True</td>\n",
       "      <td>attack</td>\n",
       "      <td>Not fleeing</td>\n",
       "      <td>False</td>\n",
       "    </tr>\n",
       "    <tr>\n",
       "      <th>1</th>\n",
       "      <td>4</td>\n",
       "      <td>Lewis Lee Lembke</td>\n",
       "      <td>2015-01-02</td>\n",
       "      <td>shot</td>\n",
       "      <td>gun</td>\n",
       "      <td>47.0</td>\n",
       "      <td>M</td>\n",
       "      <td>White</td>\n",
       "      <td>Aloha</td>\n",
       "      <td>OR</td>\n",
       "      <td>False</td>\n",
       "      <td>attack</td>\n",
       "      <td>Not fleeing</td>\n",
       "      <td>False</td>\n",
       "    </tr>\n",
       "    <tr>\n",
       "      <th>2</th>\n",
       "      <td>5</td>\n",
       "      <td>John Paul Quintero</td>\n",
       "      <td>2015-01-03</td>\n",
       "      <td>shot and Tasered</td>\n",
       "      <td>unarmed</td>\n",
       "      <td>23.0</td>\n",
       "      <td>M</td>\n",
       "      <td>Hispanic</td>\n",
       "      <td>Wichita</td>\n",
       "      <td>KS</td>\n",
       "      <td>False</td>\n",
       "      <td>other</td>\n",
       "      <td>Not fleeing</td>\n",
       "      <td>False</td>\n",
       "    </tr>\n",
       "    <tr>\n",
       "      <th>3</th>\n",
       "      <td>8</td>\n",
       "      <td>Matthew Hoffman</td>\n",
       "      <td>2015-01-04</td>\n",
       "      <td>shot</td>\n",
       "      <td>toy weapon</td>\n",
       "      <td>32.0</td>\n",
       "      <td>M</td>\n",
       "      <td>White</td>\n",
       "      <td>San Francisco</td>\n",
       "      <td>CA</td>\n",
       "      <td>True</td>\n",
       "      <td>attack</td>\n",
       "      <td>Not fleeing</td>\n",
       "      <td>False</td>\n",
       "    </tr>\n",
       "    <tr>\n",
       "      <th>4</th>\n",
       "      <td>9</td>\n",
       "      <td>Michael Rodriguez</td>\n",
       "      <td>2015-01-04</td>\n",
       "      <td>shot</td>\n",
       "      <td>nail gun</td>\n",
       "      <td>39.0</td>\n",
       "      <td>M</td>\n",
       "      <td>Hispanic</td>\n",
       "      <td>Evans</td>\n",
       "      <td>CO</td>\n",
       "      <td>False</td>\n",
       "      <td>attack</td>\n",
       "      <td>Not fleeing</td>\n",
       "      <td>False</td>\n",
       "    </tr>\n",
       "  </tbody>\n",
       "</table>\n",
       "</div>\n",
       "      <button class=\"colab-df-convert\" onclick=\"convertToInteractive('df-d93b1644-dd3a-4afd-8f47-64b60748eb91')\"\n",
       "              title=\"Convert this dataframe to an interactive table.\"\n",
       "              style=\"display:none;\">\n",
       "        \n",
       "  <svg xmlns=\"http://www.w3.org/2000/svg\" height=\"24px\"viewBox=\"0 0 24 24\"\n",
       "       width=\"24px\">\n",
       "    <path d=\"M0 0h24v24H0V0z\" fill=\"none\"/>\n",
       "    <path d=\"M18.56 5.44l.94 2.06.94-2.06 2.06-.94-2.06-.94-.94-2.06-.94 2.06-2.06.94zm-11 1L8.5 8.5l.94-2.06 2.06-.94-2.06-.94L8.5 2.5l-.94 2.06-2.06.94zm10 10l.94 2.06.94-2.06 2.06-.94-2.06-.94-.94-2.06-.94 2.06-2.06.94z\"/><path d=\"M17.41 7.96l-1.37-1.37c-.4-.4-.92-.59-1.43-.59-.52 0-1.04.2-1.43.59L10.3 9.45l-7.72 7.72c-.78.78-.78 2.05 0 2.83L4 21.41c.39.39.9.59 1.41.59.51 0 1.02-.2 1.41-.59l7.78-7.78 2.81-2.81c.8-.78.8-2.07 0-2.86zM5.41 20L4 18.59l7.72-7.72 1.47 1.35L5.41 20z\"/>\n",
       "  </svg>\n",
       "      </button>\n",
       "      \n",
       "  <style>\n",
       "    .colab-df-container {\n",
       "      display:flex;\n",
       "      flex-wrap:wrap;\n",
       "      gap: 12px;\n",
       "    }\n",
       "\n",
       "    .colab-df-convert {\n",
       "      background-color: #E8F0FE;\n",
       "      border: none;\n",
       "      border-radius: 50%;\n",
       "      cursor: pointer;\n",
       "      display: none;\n",
       "      fill: #1967D2;\n",
       "      height: 32px;\n",
       "      padding: 0 0 0 0;\n",
       "      width: 32px;\n",
       "    }\n",
       "\n",
       "    .colab-df-convert:hover {\n",
       "      background-color: #E2EBFA;\n",
       "      box-shadow: 0px 1px 2px rgba(60, 64, 67, 0.3), 0px 1px 3px 1px rgba(60, 64, 67, 0.15);\n",
       "      fill: #174EA6;\n",
       "    }\n",
       "\n",
       "    [theme=dark] .colab-df-convert {\n",
       "      background-color: #3B4455;\n",
       "      fill: #D2E3FC;\n",
       "    }\n",
       "\n",
       "    [theme=dark] .colab-df-convert:hover {\n",
       "      background-color: #434B5C;\n",
       "      box-shadow: 0px 1px 3px 1px rgba(0, 0, 0, 0.15);\n",
       "      filter: drop-shadow(0px 1px 2px rgba(0, 0, 0, 0.3));\n",
       "      fill: #FFFFFF;\n",
       "    }\n",
       "  </style>\n",
       "\n",
       "      <script>\n",
       "        const buttonEl =\n",
       "          document.querySelector('#df-d93b1644-dd3a-4afd-8f47-64b60748eb91 button.colab-df-convert');\n",
       "        buttonEl.style.display =\n",
       "          google.colab.kernel.accessAllowed ? 'block' : 'none';\n",
       "\n",
       "        async function convertToInteractive(key) {\n",
       "          const element = document.querySelector('#df-d93b1644-dd3a-4afd-8f47-64b60748eb91');\n",
       "          const dataTable =\n",
       "            await google.colab.kernel.invokeFunction('convertToInteractive',\n",
       "                                                     [key], {});\n",
       "          if (!dataTable) return;\n",
       "\n",
       "          const docLinkHtml = 'Like what you see? Visit the ' +\n",
       "            '<a target=\"_blank\" href=https://colab.research.google.com/notebooks/data_table.ipynb>data table notebook</a>'\n",
       "            + ' to learn more about interactive tables.';\n",
       "          element.innerHTML = '';\n",
       "          dataTable['output_type'] = 'display_data';\n",
       "          await google.colab.output.renderOutput(dataTable, element);\n",
       "          const docLink = document.createElement('div');\n",
       "          docLink.innerHTML = docLinkHtml;\n",
       "          element.appendChild(docLink);\n",
       "        }\n",
       "      </script>\n",
       "    </div>\n",
       "  </div>\n",
       "  "
      ]
     },
     "metadata": {},
     "execution_count": 102
    }
   ]
  },
  {
   "cell_type": "markdown",
   "source": [
    "### **4.2 Missing Values**"
   ],
   "metadata": {
    "id": "OWAfS0DN3NsY"
   }
  },
  {
   "cell_type": "code",
   "source": [
    "df.info()"
   ],
   "metadata": {
    "colab": {
     "base_uri": "https://localhost:8080/"
    },
    "id": "1ctjviFb2_ML",
    "outputId": "32e5495e-5f8c-4ca3-8cef-20ebb7790b82"
   },
   "execution_count": 103,
   "outputs": [
    {
     "output_type": "stream",
     "name": "stdout",
     "text": [
      "<class 'pandas.core.frame.DataFrame'>\n",
      "RangeIndex: 2142 entries, 0 to 2141\n",
      "Data columns (total 14 columns):\n",
      " #   Column                   Non-Null Count  Dtype  \n",
      "---  ------                   --------------  -----  \n",
      " 0   id                       2142 non-null   int64  \n",
      " 1   name                     2123 non-null   object \n",
      " 2   date                     2142 non-null   object \n",
      " 3   manner_of_death          2142 non-null   object \n",
      " 4   armed                    2136 non-null   object \n",
      " 5   age                      2099 non-null   float64\n",
      " 6   gender                   2141 non-null   object \n",
      " 7   race                     2039 non-null   object \n",
      " 8   city                     2142 non-null   object \n",
      " 9   state                    2142 non-null   object \n",
      " 10  signs_of_mental_illness  2142 non-null   bool   \n",
      " 11  threat_level             2142 non-null   object \n",
      " 12  flee                     2106 non-null   object \n",
      " 13  body_camera              2142 non-null   bool   \n",
      "dtypes: bool(2), float64(1), int64(1), object(10)\n",
      "memory usage: 205.1+ KB\n"
     ]
    }
   ]
  },
  {
   "cell_type": "markdown",
   "source": [
    "The dataset contains some null values need to be cleaned"
   ],
   "metadata": {
    "id": "z9kQmf4Z3kmo"
   }
  },
  {
   "cell_type": "code",
   "source": [
    "# Counting null values in each column\n",
    "df.isnull().sum()"
   ],
   "metadata": {
    "colab": {
     "base_uri": "https://localhost:8080/"
    },
    "id": "tXKjdCF23TUF",
    "outputId": "080cad66-c81d-45d9-d843-c8f20a6b1e54"
   },
   "execution_count": 104,
   "outputs": [
    {
     "output_type": "execute_result",
     "data": {
      "text/plain": [
       "id                           0\n",
       "name                        19\n",
       "date                         0\n",
       "manner_of_death              0\n",
       "armed                        6\n",
       "age                         43\n",
       "gender                       1\n",
       "race                       103\n",
       "city                         0\n",
       "state                        0\n",
       "signs_of_mental_illness      0\n",
       "threat_level                 0\n",
       "flee                        36\n",
       "body_camera                  0\n",
       "dtype: int64"
      ]
     },
     "metadata": {},
     "execution_count": 104
    }
   ]
  },
  {
   "cell_type": "markdown",
   "source": [
    "The race column is missing the maximum data followed by age,flee,name and gender\n"
   ],
   "metadata": {
    "id": "LpdA5Zl67Rkv"
   }
  },
  {
   "cell_type": "code",
   "source": [
    "# Dropping all null values\n",
    "df_clean = df.dropna().drop(\"id\", axis=1).reset_index()"
   ],
   "metadata": {
    "id": "wBfNQcEF3vn_"
   },
   "execution_count": 105,
   "outputs": []
  },
  {
   "cell_type": "code",
   "source": [
    "df_clean"
   ],
   "metadata": {
    "colab": {
     "base_uri": "https://localhost:8080/",
     "height": 679
    },
    "id": "D8R141kG8GIm",
    "outputId": "b77004dc-4ead-46ca-deb9-490d17289fc0"
   },
   "execution_count": 106,
   "outputs": [
    {
     "output_type": "execute_result",
     "data": {
      "text/plain": [
       "      index                 name        date   manner_of_death       armed  \\\n",
       "0         0           Tim Elliot  2015-01-02              shot         gun   \n",
       "1         1     Lewis Lee Lembke  2015-01-02              shot         gun   \n",
       "2         2   John Paul Quintero  2015-01-03  shot and Tasered     unarmed   \n",
       "3         3      Matthew Hoffman  2015-01-04              shot  toy weapon   \n",
       "4         4    Michael Rodriguez  2015-01-04              shot    nail gun   \n",
       "...     ...                  ...         ...               ...         ...   \n",
       "1981   2137   James Leroy Marker  2017-02-26              shot         gun   \n",
       "1982   2138      Joey J. Bridges  2017-02-27              shot         gun   \n",
       "1983   2139       Shawn M. Igers  2017-02-27              shot         gun   \n",
       "1984   2140           Earl Riley  2017-02-28              shot         gun   \n",
       "1985   2141  Christopher Redding  2017-02-28              shot         gun   \n",
       "\n",
       "       age gender      race           city state  signs_of_mental_illness  \\\n",
       "0     53.0      M     Asian        Shelton    WA                     True   \n",
       "1     47.0      M     White          Aloha    OR                    False   \n",
       "2     23.0      M  Hispanic        Wichita    KS                    False   \n",
       "3     32.0      M     White  San Francisco    CA                     True   \n",
       "4     39.0      M  Hispanic          Evans    CO                    False   \n",
       "...    ...    ...       ...            ...   ...                      ...   \n",
       "1981  66.0      M     White    Floral City    FL                    False   \n",
       "1982  27.0      M     White         Shelby    NC                     True   \n",
       "1983  40.0      M     White        Corning    WI                    False   \n",
       "1984  25.0      M     Black        Houston    TX                    False   \n",
       "1985  20.0      M     Black        Orlando    FL                    False   \n",
       "\n",
       "     threat_level         flee  body_camera  \n",
       "0          attack  Not fleeing        False  \n",
       "1          attack  Not fleeing        False  \n",
       "2           other  Not fleeing        False  \n",
       "3          attack  Not fleeing        False  \n",
       "4          attack  Not fleeing        False  \n",
       "...           ...          ...          ...  \n",
       "1981        other          Car        False  \n",
       "1982       attack         Foot        False  \n",
       "1983       attack  Not fleeing        False  \n",
       "1984       attack  Not fleeing        False  \n",
       "1985       attack         Foot        False  \n",
       "\n",
       "[1986 rows x 14 columns]"
      ],
      "text/html": [
       "\n",
       "  <div id=\"df-d73717df-5d2d-496d-bb42-8b8f9ac6f836\">\n",
       "    <div class=\"colab-df-container\">\n",
       "      <div>\n",
       "<style scoped>\n",
       "    .dataframe tbody tr th:only-of-type {\n",
       "        vertical-align: middle;\n",
       "    }\n",
       "\n",
       "    .dataframe tbody tr th {\n",
       "        vertical-align: top;\n",
       "    }\n",
       "\n",
       "    .dataframe thead th {\n",
       "        text-align: right;\n",
       "    }\n",
       "</style>\n",
       "<table border=\"1\" class=\"dataframe\">\n",
       "  <thead>\n",
       "    <tr style=\"text-align: right;\">\n",
       "      <th></th>\n",
       "      <th>index</th>\n",
       "      <th>name</th>\n",
       "      <th>date</th>\n",
       "      <th>manner_of_death</th>\n",
       "      <th>armed</th>\n",
       "      <th>age</th>\n",
       "      <th>gender</th>\n",
       "      <th>race</th>\n",
       "      <th>city</th>\n",
       "      <th>state</th>\n",
       "      <th>signs_of_mental_illness</th>\n",
       "      <th>threat_level</th>\n",
       "      <th>flee</th>\n",
       "      <th>body_camera</th>\n",
       "    </tr>\n",
       "  </thead>\n",
       "  <tbody>\n",
       "    <tr>\n",
       "      <th>0</th>\n",
       "      <td>0</td>\n",
       "      <td>Tim Elliot</td>\n",
       "      <td>2015-01-02</td>\n",
       "      <td>shot</td>\n",
       "      <td>gun</td>\n",
       "      <td>53.0</td>\n",
       "      <td>M</td>\n",
       "      <td>Asian</td>\n",
       "      <td>Shelton</td>\n",
       "      <td>WA</td>\n",
       "      <td>True</td>\n",
       "      <td>attack</td>\n",
       "      <td>Not fleeing</td>\n",
       "      <td>False</td>\n",
       "    </tr>\n",
       "    <tr>\n",
       "      <th>1</th>\n",
       "      <td>1</td>\n",
       "      <td>Lewis Lee Lembke</td>\n",
       "      <td>2015-01-02</td>\n",
       "      <td>shot</td>\n",
       "      <td>gun</td>\n",
       "      <td>47.0</td>\n",
       "      <td>M</td>\n",
       "      <td>White</td>\n",
       "      <td>Aloha</td>\n",
       "      <td>OR</td>\n",
       "      <td>False</td>\n",
       "      <td>attack</td>\n",
       "      <td>Not fleeing</td>\n",
       "      <td>False</td>\n",
       "    </tr>\n",
       "    <tr>\n",
       "      <th>2</th>\n",
       "      <td>2</td>\n",
       "      <td>John Paul Quintero</td>\n",
       "      <td>2015-01-03</td>\n",
       "      <td>shot and Tasered</td>\n",
       "      <td>unarmed</td>\n",
       "      <td>23.0</td>\n",
       "      <td>M</td>\n",
       "      <td>Hispanic</td>\n",
       "      <td>Wichita</td>\n",
       "      <td>KS</td>\n",
       "      <td>False</td>\n",
       "      <td>other</td>\n",
       "      <td>Not fleeing</td>\n",
       "      <td>False</td>\n",
       "    </tr>\n",
       "    <tr>\n",
       "      <th>3</th>\n",
       "      <td>3</td>\n",
       "      <td>Matthew Hoffman</td>\n",
       "      <td>2015-01-04</td>\n",
       "      <td>shot</td>\n",
       "      <td>toy weapon</td>\n",
       "      <td>32.0</td>\n",
       "      <td>M</td>\n",
       "      <td>White</td>\n",
       "      <td>San Francisco</td>\n",
       "      <td>CA</td>\n",
       "      <td>True</td>\n",
       "      <td>attack</td>\n",
       "      <td>Not fleeing</td>\n",
       "      <td>False</td>\n",
       "    </tr>\n",
       "    <tr>\n",
       "      <th>4</th>\n",
       "      <td>4</td>\n",
       "      <td>Michael Rodriguez</td>\n",
       "      <td>2015-01-04</td>\n",
       "      <td>shot</td>\n",
       "      <td>nail gun</td>\n",
       "      <td>39.0</td>\n",
       "      <td>M</td>\n",
       "      <td>Hispanic</td>\n",
       "      <td>Evans</td>\n",
       "      <td>CO</td>\n",
       "      <td>False</td>\n",
       "      <td>attack</td>\n",
       "      <td>Not fleeing</td>\n",
       "      <td>False</td>\n",
       "    </tr>\n",
       "    <tr>\n",
       "      <th>...</th>\n",
       "      <td>...</td>\n",
       "      <td>...</td>\n",
       "      <td>...</td>\n",
       "      <td>...</td>\n",
       "      <td>...</td>\n",
       "      <td>...</td>\n",
       "      <td>...</td>\n",
       "      <td>...</td>\n",
       "      <td>...</td>\n",
       "      <td>...</td>\n",
       "      <td>...</td>\n",
       "      <td>...</td>\n",
       "      <td>...</td>\n",
       "      <td>...</td>\n",
       "    </tr>\n",
       "    <tr>\n",
       "      <th>1981</th>\n",
       "      <td>2137</td>\n",
       "      <td>James Leroy Marker</td>\n",
       "      <td>2017-02-26</td>\n",
       "      <td>shot</td>\n",
       "      <td>gun</td>\n",
       "      <td>66.0</td>\n",
       "      <td>M</td>\n",
       "      <td>White</td>\n",
       "      <td>Floral City</td>\n",
       "      <td>FL</td>\n",
       "      <td>False</td>\n",
       "      <td>other</td>\n",
       "      <td>Car</td>\n",
       "      <td>False</td>\n",
       "    </tr>\n",
       "    <tr>\n",
       "      <th>1982</th>\n",
       "      <td>2138</td>\n",
       "      <td>Joey J. Bridges</td>\n",
       "      <td>2017-02-27</td>\n",
       "      <td>shot</td>\n",
       "      <td>gun</td>\n",
       "      <td>27.0</td>\n",
       "      <td>M</td>\n",
       "      <td>White</td>\n",
       "      <td>Shelby</td>\n",
       "      <td>NC</td>\n",
       "      <td>True</td>\n",
       "      <td>attack</td>\n",
       "      <td>Foot</td>\n",
       "      <td>False</td>\n",
       "    </tr>\n",
       "    <tr>\n",
       "      <th>1983</th>\n",
       "      <td>2139</td>\n",
       "      <td>Shawn M. Igers</td>\n",
       "      <td>2017-02-27</td>\n",
       "      <td>shot</td>\n",
       "      <td>gun</td>\n",
       "      <td>40.0</td>\n",
       "      <td>M</td>\n",
       "      <td>White</td>\n",
       "      <td>Corning</td>\n",
       "      <td>WI</td>\n",
       "      <td>False</td>\n",
       "      <td>attack</td>\n",
       "      <td>Not fleeing</td>\n",
       "      <td>False</td>\n",
       "    </tr>\n",
       "    <tr>\n",
       "      <th>1984</th>\n",
       "      <td>2140</td>\n",
       "      <td>Earl Riley</td>\n",
       "      <td>2017-02-28</td>\n",
       "      <td>shot</td>\n",
       "      <td>gun</td>\n",
       "      <td>25.0</td>\n",
       "      <td>M</td>\n",
       "      <td>Black</td>\n",
       "      <td>Houston</td>\n",
       "      <td>TX</td>\n",
       "      <td>False</td>\n",
       "      <td>attack</td>\n",
       "      <td>Not fleeing</td>\n",
       "      <td>False</td>\n",
       "    </tr>\n",
       "    <tr>\n",
       "      <th>1985</th>\n",
       "      <td>2141</td>\n",
       "      <td>Christopher Redding</td>\n",
       "      <td>2017-02-28</td>\n",
       "      <td>shot</td>\n",
       "      <td>gun</td>\n",
       "      <td>20.0</td>\n",
       "      <td>M</td>\n",
       "      <td>Black</td>\n",
       "      <td>Orlando</td>\n",
       "      <td>FL</td>\n",
       "      <td>False</td>\n",
       "      <td>attack</td>\n",
       "      <td>Foot</td>\n",
       "      <td>False</td>\n",
       "    </tr>\n",
       "  </tbody>\n",
       "</table>\n",
       "<p>1986 rows × 14 columns</p>\n",
       "</div>\n",
       "      <button class=\"colab-df-convert\" onclick=\"convertToInteractive('df-d73717df-5d2d-496d-bb42-8b8f9ac6f836')\"\n",
       "              title=\"Convert this dataframe to an interactive table.\"\n",
       "              style=\"display:none;\">\n",
       "        \n",
       "  <svg xmlns=\"http://www.w3.org/2000/svg\" height=\"24px\"viewBox=\"0 0 24 24\"\n",
       "       width=\"24px\">\n",
       "    <path d=\"M0 0h24v24H0V0z\" fill=\"none\"/>\n",
       "    <path d=\"M18.56 5.44l.94 2.06.94-2.06 2.06-.94-2.06-.94-.94-2.06-.94 2.06-2.06.94zm-11 1L8.5 8.5l.94-2.06 2.06-.94-2.06-.94L8.5 2.5l-.94 2.06-2.06.94zm10 10l.94 2.06.94-2.06 2.06-.94-2.06-.94-.94-2.06-.94 2.06-2.06.94z\"/><path d=\"M17.41 7.96l-1.37-1.37c-.4-.4-.92-.59-1.43-.59-.52 0-1.04.2-1.43.59L10.3 9.45l-7.72 7.72c-.78.78-.78 2.05 0 2.83L4 21.41c.39.39.9.59 1.41.59.51 0 1.02-.2 1.41-.59l7.78-7.78 2.81-2.81c.8-.78.8-2.07 0-2.86zM5.41 20L4 18.59l7.72-7.72 1.47 1.35L5.41 20z\"/>\n",
       "  </svg>\n",
       "      </button>\n",
       "      \n",
       "  <style>\n",
       "    .colab-df-container {\n",
       "      display:flex;\n",
       "      flex-wrap:wrap;\n",
       "      gap: 12px;\n",
       "    }\n",
       "\n",
       "    .colab-df-convert {\n",
       "      background-color: #E8F0FE;\n",
       "      border: none;\n",
       "      border-radius: 50%;\n",
       "      cursor: pointer;\n",
       "      display: none;\n",
       "      fill: #1967D2;\n",
       "      height: 32px;\n",
       "      padding: 0 0 0 0;\n",
       "      width: 32px;\n",
       "    }\n",
       "\n",
       "    .colab-df-convert:hover {\n",
       "      background-color: #E2EBFA;\n",
       "      box-shadow: 0px 1px 2px rgba(60, 64, 67, 0.3), 0px 1px 3px 1px rgba(60, 64, 67, 0.15);\n",
       "      fill: #174EA6;\n",
       "    }\n",
       "\n",
       "    [theme=dark] .colab-df-convert {\n",
       "      background-color: #3B4455;\n",
       "      fill: #D2E3FC;\n",
       "    }\n",
       "\n",
       "    [theme=dark] .colab-df-convert:hover {\n",
       "      background-color: #434B5C;\n",
       "      box-shadow: 0px 1px 3px 1px rgba(0, 0, 0, 0.15);\n",
       "      filter: drop-shadow(0px 1px 2px rgba(0, 0, 0, 0.3));\n",
       "      fill: #FFFFFF;\n",
       "    }\n",
       "  </style>\n",
       "\n",
       "      <script>\n",
       "        const buttonEl =\n",
       "          document.querySelector('#df-d73717df-5d2d-496d-bb42-8b8f9ac6f836 button.colab-df-convert');\n",
       "        buttonEl.style.display =\n",
       "          google.colab.kernel.accessAllowed ? 'block' : 'none';\n",
       "\n",
       "        async function convertToInteractive(key) {\n",
       "          const element = document.querySelector('#df-d73717df-5d2d-496d-bb42-8b8f9ac6f836');\n",
       "          const dataTable =\n",
       "            await google.colab.kernel.invokeFunction('convertToInteractive',\n",
       "                                                     [key], {});\n",
       "          if (!dataTable) return;\n",
       "\n",
       "          const docLinkHtml = 'Like what you see? Visit the ' +\n",
       "            '<a target=\"_blank\" href=https://colab.research.google.com/notebooks/data_table.ipynb>data table notebook</a>'\n",
       "            + ' to learn more about interactive tables.';\n",
       "          element.innerHTML = '';\n",
       "          dataTable['output_type'] = 'display_data';\n",
       "          await google.colab.output.renderOutput(dataTable, element);\n",
       "          const docLink = document.createElement('div');\n",
       "          docLink.innerHTML = docLinkHtml;\n",
       "          element.appendChild(docLink);\n",
       "        }\n",
       "      </script>\n",
       "    </div>\n",
       "  </div>\n",
       "  "
      ]
     },
     "metadata": {},
     "execution_count": 106
    }
   ]
  },
  {
   "cell_type": "code",
   "source": [
    "df_clean.info()"
   ],
   "metadata": {
    "colab": {
     "base_uri": "https://localhost:8080/"
    },
    "id": "yW-9p-vl8u-U",
    "outputId": "da08c5c0-582e-4146-bbb9-a4f83862ba7a"
   },
   "execution_count": 107,
   "outputs": [
    {
     "output_type": "stream",
     "name": "stdout",
     "text": [
      "<class 'pandas.core.frame.DataFrame'>\n",
      "RangeIndex: 1986 entries, 0 to 1985\n",
      "Data columns (total 14 columns):\n",
      " #   Column                   Non-Null Count  Dtype  \n",
      "---  ------                   --------------  -----  \n",
      " 0   index                    1986 non-null   int64  \n",
      " 1   name                     1986 non-null   object \n",
      " 2   date                     1986 non-null   object \n",
      " 3   manner_of_death          1986 non-null   object \n",
      " 4   armed                    1986 non-null   object \n",
      " 5   age                      1986 non-null   float64\n",
      " 6   gender                   1986 non-null   object \n",
      " 7   race                     1986 non-null   object \n",
      " 8   city                     1986 non-null   object \n",
      " 9   state                    1986 non-null   object \n",
      " 10  signs_of_mental_illness  1986 non-null   bool   \n",
      " 11  threat_level             1986 non-null   object \n",
      " 12  flee                     1986 non-null   object \n",
      " 13  body_camera              1986 non-null   bool   \n",
      "dtypes: bool(2), float64(1), int64(1), object(10)\n",
      "memory usage: 190.2+ KB\n"
     ]
    }
   ]
  },
  {
   "cell_type": "markdown",
   "source": [
    "now, the new dateset has  1986 observations of 15 features."
   ],
   "metadata": {
    "id": "UdplAMx1_IDc"
   }
  },
  {
   "cell_type": "markdown",
   "source": [
    "### **4.3parsing the date**"
   ],
   "metadata": {
    "id": "_BAdFVWL_b3e"
   }
  },
  {
   "cell_type": "code",
   "source": [
    "df_clean[\"date\"] = pd.to_datetime(df_clean[\"date\"])"
   ],
   "metadata": {
    "id": "57v-TB3U-9iX"
   },
   "execution_count": 108,
   "outputs": []
  },
  {
   "cell_type": "code",
   "source": [
    "df_clean.info()"
   ],
   "metadata": {
    "colab": {
     "base_uri": "https://localhost:8080/"
    },
    "id": "yin3ZQETCwro",
    "outputId": "5534e895-6129-4b23-94b6-c94ea49d6e07"
   },
   "execution_count": 109,
   "outputs": [
    {
     "output_type": "stream",
     "name": "stdout",
     "text": [
      "<class 'pandas.core.frame.DataFrame'>\n",
      "RangeIndex: 1986 entries, 0 to 1985\n",
      "Data columns (total 14 columns):\n",
      " #   Column                   Non-Null Count  Dtype         \n",
      "---  ------                   --------------  -----         \n",
      " 0   index                    1986 non-null   int64         \n",
      " 1   name                     1986 non-null   object        \n",
      " 2   date                     1986 non-null   datetime64[ns]\n",
      " 3   manner_of_death          1986 non-null   object        \n",
      " 4   armed                    1986 non-null   object        \n",
      " 5   age                      1986 non-null   float64       \n",
      " 6   gender                   1986 non-null   object        \n",
      " 7   race                     1986 non-null   object        \n",
      " 8   city                     1986 non-null   object        \n",
      " 9   state                    1986 non-null   object        \n",
      " 10  signs_of_mental_illness  1986 non-null   bool          \n",
      " 11  threat_level             1986 non-null   object        \n",
      " 12  flee                     1986 non-null   object        \n",
      " 13  body_camera              1986 non-null   bool          \n",
      "dtypes: bool(2), datetime64[ns](1), float64(1), int64(1), object(9)\n",
      "memory usage: 190.2+ KB\n"
     ]
    }
   ]
  },
  {
   "cell_type": "markdown",
   "source": [
    "changed the date into datetime datatype"
   ],
   "metadata": {
    "id": "42ttgLp0DQZC"
   }
  },
  {
   "cell_type": "markdown",
   "source": [
    "## **5.Exploratory Data Analysis**"
   ],
   "metadata": {
    "id": "IWqhYKekDbTh"
   }
  },
  {
   "cell_type": "markdown",
   "source": [
    "**5.1 Age Distribution**"
   ],
   "metadata": {
    "id": "yfgCGCumG4Qa"
   }
  },
  {
   "cell_type": "code",
   "source": [
    "df_clean.query(\"age <20\").shape"
   ],
   "metadata": {
    "colab": {
     "base_uri": "https://localhost:8080/"
    },
    "id": "MnxCFXf8LBqT",
    "outputId": "0d48c6ac-9f0a-4f20-88c4-594e6478f71e"
   },
   "execution_count": 110,
   "outputs": [
    {
     "output_type": "execute_result",
     "data": {
      "text/plain": [
       "(118, 14)"
      ]
     },
     "metadata": {},
     "execution_count": 110
    }
   ]
  },
  {
   "cell_type": "code",
   "source": [
    "fig = plt.figure(figsize=(10, 6))\n",
    "sns.distplot(df_clean[\"age\"], bins=30)\n",
    "plt.title(\"Age Distribition of victims shot by police\")\n",
    "plt.show()"
   ],
   "metadata": {
    "colab": {
     "base_uri": "https://localhost:8080/",
     "height": 410
    },
    "id": "DLG6rXTSG-F3",
    "outputId": "509a1ae3-5c69-4bab-ed63-16f39b8c0fd4"
   },
   "execution_count": 111,
   "outputs": [
    {
     "output_type": "display_data",
     "data": {
      "text/plain": [
       "<Figure size 720x432 with 1 Axes>"
      ],
      "image/png": "[encoded data removed]"
     },
     "metadata": {}
    }
   ]
  },
  {
   "cell_type": "markdown",
   "source": [
    "**Findings**\n",
    " \n",
    "\n",
    "*   The most vulnarable age is 20-40 where the most vitims were shot by police, the age group were least effected \n",
    "*  The children under age 20 is 118 were killed by police\n",
    "\n",
    "\n",
    "\n",
    "\n"
   ],
   "metadata": {
    "id": "exfR7DbcKmpe"
   }
  },
  {
   "cell_type": "markdown",
   "source": [
    "**5.2 race vs age**"
   ],
   "metadata": {
    "id": "H6Psm2phOtMP"
   }
  },
  {
   "cell_type": "code",
   "source": [
    "fig = plt.figure(figsize=(10, 6))\n",
    "sns.boxplot(x=\"race\", y=\"age\", data=df_clean)\n",
    "plt.xlabel(\"Race\")\n",
    "plt.ylabel(\"Age\")\n",
    "plt.title(\"police shooting on age seperated by race \")\n",
    "plt.show()"
   ],
   "metadata": {
    "colab": {
     "base_uri": "https://localhost:8080/",
     "height": 410
    },
    "id": "N-RoXoUPIGdS",
    "outputId": "64f1220b-0d59-4424-c72b-5cbbacc0be51"
   },
   "execution_count": 112,
   "outputs": [
    {
     "output_type": "display_data",
     "data": {
      "text/plain": [
       "<Figure size 720x432 with 1 Axes>"
      ],
      "image/png": "[encoded data removed]"
     },
     "metadata": {}
    }
   ]
  },
  {
   "cell_type": "markdown",
   "source": [
    "**5.3 Unarmed killings**"
   ],
   "metadata": {
    "id": "Vvx9iTY0nYGT"
   }
  },
  {
   "cell_type": "code",
   "source": [
    "# race that were armed\n",
    "r_arm = df_clean\n",
    "r_arm[\"armed\"] = df_clean[\"armed\"] != \"unarmed\"\n",
    "armed_r = r_arm.groupby([\"race\", \"armed\"], as_index=False).index.count()\n",
    "armed_r.sort_values(by=[\"armed\", \"index\"], ascending=[False, False], inplace=True)\n",
    "armed_r = armed_r.rename(columns={\"index\": \"count\"})\n",
    "armed_r.head()"
   ],
   "metadata": {
    "colab": {
     "base_uri": "https://localhost:8080/",
     "height": 206
    },
    "id": "pC-A0_YxSLTZ",
    "outputId": "311f4fbc-671a-47f0-c96e-49b83dd918c5"
   },
   "execution_count": 113,
   "outputs": [
    {
     "output_type": "execute_result",
     "data": {
      "text/plain": [
       "        race  armed  count\n",
       "10     White   True    962\n",
       "2      Black   True    467\n",
       "4   Hispanic   True    326\n",
       "0      Asian   True     32\n",
       "6     Native   True     24"
      ],
      "text/html": [
       "\n",
       "  <div id=\"df-dc8ab8f6-7c34-4d12-8ffb-17b5d2b83042\">\n",
       "    <div class=\"colab-df-container\">\n",
       "      <div>\n",
       "<style scoped>\n",
       "    .dataframe tbody tr th:only-of-type {\n",
       "        vertical-align: middle;\n",
       "    }\n",
       "\n",
       "    .dataframe tbody tr th {\n",
       "        vertical-align: top;\n",
       "    }\n",
       "\n",
       "    .dataframe thead th {\n",
       "        text-align: right;\n",
       "    }\n",
       "</style>\n",
       "<table border=\"1\" class=\"dataframe\">\n",
       "  <thead>\n",
       "    <tr style=\"text-align: right;\">\n",
       "      <th></th>\n",
       "      <th>race</th>\n",
       "      <th>armed</th>\n",
       "      <th>count</th>\n",
       "    </tr>\n",
       "  </thead>\n",
       "  <tbody>\n",
       "    <tr>\n",
       "      <th>10</th>\n",
       "      <td>White</td>\n",
       "      <td>True</td>\n",
       "      <td>962</td>\n",
       "    </tr>\n",
       "    <tr>\n",
       "      <th>2</th>\n",
       "      <td>Black</td>\n",
       "      <td>True</td>\n",
       "      <td>467</td>\n",
       "    </tr>\n",
       "    <tr>\n",
       "      <th>4</th>\n",
       "      <td>Hispanic</td>\n",
       "      <td>True</td>\n",
       "      <td>326</td>\n",
       "    </tr>\n",
       "    <tr>\n",
       "      <th>0</th>\n",
       "      <td>Asian</td>\n",
       "      <td>True</td>\n",
       "      <td>32</td>\n",
       "    </tr>\n",
       "    <tr>\n",
       "      <th>6</th>\n",
       "      <td>Native</td>\n",
       "      <td>True</td>\n",
       "      <td>24</td>\n",
       "    </tr>\n",
       "  </tbody>\n",
       "</table>\n",
       "</div>\n",
       "      <button class=\"colab-df-convert\" onclick=\"convertToInteractive('df-dc8ab8f6-7c34-4d12-8ffb-17b5d2b83042')\"\n",
       "              title=\"Convert this dataframe to an interactive table.\"\n",
       "              style=\"display:none;\">\n",
       "        \n",
       "  <svg xmlns=\"http://www.w3.org/2000/svg\" height=\"24px\"viewBox=\"0 0 24 24\"\n",
       "       width=\"24px\">\n",
       "    <path d=\"M0 0h24v24H0V0z\" fill=\"none\"/>\n",
       "    <path d=\"M18.56 5.44l.94 2.06.94-2.06 2.06-.94-2.06-.94-.94-2.06-.94 2.06-2.06.94zm-11 1L8.5 8.5l.94-2.06 2.06-.94-2.06-.94L8.5 2.5l-.94 2.06-2.06.94zm10 10l.94 2.06.94-2.06 2.06-.94-2.06-.94-.94-2.06-.94 2.06-2.06.94z\"/><path d=\"M17.41 7.96l-1.37-1.37c-.4-.4-.92-.59-1.43-.59-.52 0-1.04.2-1.43.59L10.3 9.45l-7.72 7.72c-.78.78-.78 2.05 0 2.83L4 21.41c.39.39.9.59 1.41.59.51 0 1.02-.2 1.41-.59l7.78-7.78 2.81-2.81c.8-.78.8-2.07 0-2.86zM5.41 20L4 18.59l7.72-7.72 1.47 1.35L5.41 20z\"/>\n",
       "  </svg>\n",
       "      </button>\n",
       "      \n",
       "  <style>\n",
       "    .colab-df-container {\n",
       "      display:flex;\n",
       "      flex-wrap:wrap;\n",
       "      gap: 12px;\n",
       "    }\n",
       "\n",
       "    .colab-df-convert {\n",
       "      background-color: #E8F0FE;\n",
       "      border: none;\n",
       "      border-radius: 50%;\n",
       "      cursor: pointer;\n",
       "      display: none;\n",
       "      fill: #1967D2;\n",
       "      height: 32px;\n",
       "      padding: 0 0 0 0;\n",
       "      width: 32px;\n",
       "    }\n",
       "\n",
       "    .colab-df-convert:hover {\n",
       "      background-color: #E2EBFA;\n",
       "      box-shadow: 0px 1px 2px rgba(60, 64, 67, 0.3), 0px 1px 3px 1px rgba(60, 64, 67, 0.15);\n",
       "      fill: #174EA6;\n",
       "    }\n",
       "\n",
       "    [theme=dark] .colab-df-convert {\n",
       "      background-color: #3B4455;\n",
       "      fill: #D2E3FC;\n",
       "    }\n",
       "\n",
       "    [theme=dark] .colab-df-convert:hover {\n",
       "      background-color: #434B5C;\n",
       "      box-shadow: 0px 1px 3px 1px rgba(0, 0, 0, 0.15);\n",
       "      filter: drop-shadow(0px 1px 2px rgba(0, 0, 0, 0.3));\n",
       "      fill: #FFFFFF;\n",
       "    }\n",
       "  </style>\n",
       "\n",
       "      <script>\n",
       "        const buttonEl =\n",
       "          document.querySelector('#df-dc8ab8f6-7c34-4d12-8ffb-17b5d2b83042 button.colab-df-convert');\n",
       "        buttonEl.style.display =\n",
       "          google.colab.kernel.accessAllowed ? 'block' : 'none';\n",
       "\n",
       "        async function convertToInteractive(key) {\n",
       "          const element = document.querySelector('#df-dc8ab8f6-7c34-4d12-8ffb-17b5d2b83042');\n",
       "          const dataTable =\n",
       "            await google.colab.kernel.invokeFunction('convertToInteractive',\n",
       "                                                     [key], {});\n",
       "          if (!dataTable) return;\n",
       "\n",
       "          const docLinkHtml = 'Like what you see? Visit the ' +\n",
       "            '<a target=\"_blank\" href=https://colab.research.google.com/notebooks/data_table.ipynb>data table notebook</a>'\n",
       "            + ' to learn more about interactive tables.';\n",
       "          element.innerHTML = '';\n",
       "          dataTable['output_type'] = 'display_data';\n",
       "          await google.colab.output.renderOutput(dataTable, element);\n",
       "          const docLink = document.createElement('div');\n",
       "          docLink.innerHTML = docLinkHtml;\n",
       "          element.appendChild(docLink);\n",
       "        }\n",
       "      </script>\n",
       "    </div>\n",
       "  </div>\n",
       "  "
      ]
     },
     "metadata": {},
     "execution_count": 113
    }
   ]
  },
  {
   "cell_type": "markdown",
   "source": [
    "**Findings:**\n",
    "\n",
    "\n",
    "*   Average age for most of the races are in there 30's and all of them being in the early 30's, except of the white population that had there mean centered around 35+.\n",
    "*   From the analysis we can see that white race is mostly killed by the police.The  Hispanic and Black population look very close together. The Native American and Asian population having least effected by police shootings\n",
    "\n",
    "\n",
    "\n"
   ],
   "metadata": {
    "id": "NOCVaWUiZrpW"
   }
  },
  {
   "cell_type": "markdown",
   "source": [
    "**5.3 young vs adult**"
   ],
   "metadata": {
    "id": "uF939f88IS-Z"
   }
  },
  {
   "cell_type": "code",
   "source": [
    "def comparisonquery(df, feature, condition):\n",
    "    \"\"\"return the query based on requirement\"\"\"\n",
    "\n",
    "    comparison_string = feature + condition\n",
    "    return df.query(comparison_string)"
   ],
   "metadata": {
    "id": "x-YMx4yHSgaG"
   },
   "execution_count": 114,
   "outputs": []
  },
  {
   "cell_type": "code",
   "source": [
    "x = \"race\"\n",
    "y = \"age\"\n",
    "df1 = comparisonquery(df_clean, y, \">=25\")[[x, y]]\n",
    "df2 = comparisonquery(df_clean, y, \"<25\")[[x, y]]"
   ],
   "metadata": {
    "id": "5U6GM0VD8bRD"
   },
   "execution_count": 115,
   "outputs": []
  },
  {
   "cell_type": "code",
   "source": [
    "r = df1.groupby(x)[x].count()\n",
    "t = df2.groupby(x)[x].count()\n",
    "f, ax = plt.subplots(figsize=(10, 6))\n",
    "sns.barplot(y=r, x=r.index, label=\"Age >= 25\", color=\"r\")\n",
    "sns.barplot(y=t, x=t.index, label=\"Age < 25\", color=\"b\")\n",
    "ax.legend(ncol=2, loc=\"upper left\", frameon=True)\n",
    "ax.set(xlabel=\"young age vs adult\")\n",
    "sns.despine(left=True, bottom=True)"
   ],
   "metadata": {
    "colab": {
     "base_uri": "https://localhost:8080/",
     "height": 394
    },
    "id": "HLE8NNeyAQTQ",
    "outputId": "cf70a180-2920-49f7-b721-4f71151b148c"
   },
   "execution_count": 116,
   "outputs": [
    {
     "output_type": "display_data",
     "data": {
      "text/plain": [
       "<Figure size 720x432 with 1 Axes>"
      ],
      "image/png": "[encoded data removed]"
     },
     "metadata": {}
    }
   ]
  },
  {
   "cell_type": "markdown",
   "source": [
    "Findings:\n",
    "\n",
    "\n",
    "\n",
    "*   Most of the Victims from Asian population who are younger than 25\n",
    "*    victims of  Black, Hispanic, and White population are mostly older than 25\n",
    "\n",
    "\n",
    "\n"
   ],
   "metadata": {
    "id": "YDKOF1EwHTSe"
   }
  },
  {
   "cell_type": "markdown",
   "source": [
    "**5.4 shooting by race**"
   ],
   "metadata": {
    "id": "02WCtycdJyYt"
   }
  },
  {
   "cell_type": "code",
   "source": [
    "plt.figure(figsize=(10, 6))\n",
    "rplot = sns.countplot(x=df[\"race\"])\n",
    "for k in rplot.patches:\n",
    "    plt.annotate(\n",
    "        k.get_height(),\n",
    "        (k.get_x() + k.get_width() / 2.0, k.get_height()),\n",
    "        ha=\"center\",\n",
    "        va=\"center\",\n",
    "        xytext=(0, 8),\n",
    "        textcoords=\"offset points\",\n",
    "    )\n",
    "plt.title(\"Race Count\")\n",
    "plt.show()"
   ],
   "metadata": {
    "colab": {
     "base_uri": "https://localhost:8080/",
     "height": 410
    },
    "id": "vLIzxFwEEYhu",
    "outputId": "da130dc2-821e-4efa-bb41-9080124bfb1d"
   },
   "execution_count": 117,
   "outputs": [
    {
     "output_type": "display_data",
     "data": {
      "text/plain": [
       "<Figure size 720x432 with 1 Axes>"
      ],
      "image/png": "[encoded data removed]"
     },
     "metadata": {}
    }
   ]
  },
  {
   "cell_type": "markdown",
   "source": [
    "**findings:**\n",
    "\n",
    "white race is mostly shot by police , also points\n",
    "to be noted that white is the major population in USA"
   ],
   "metadata": {
    "id": "4RSFTN9GMGhH"
   }
  },
  {
   "cell_type": "markdown",
   "source": [
    "**5.5 calculating the proportion of armed and unarmed shootings**"
   ],
   "metadata": {
    "id": "LCA0YfJmrioP"
   }
  },
  {
   "cell_type": "code",
   "source": [
    "df_prop = (\n",
    "    armed_r.pivot(\"race\", \"armed\", \"count\")\n",
    "    .apply(lambda x: x / x.sum(), axis=1)\n",
    "    .sort_values(by=True)\n",
    "    .dropna()\n",
    ")\n",
    "df_prop"
   ],
   "metadata": {
    "id": "xm4MRgeWKi-H",
    "colab": {
     "base_uri": "https://localhost:8080/",
     "height": 237
    },
    "outputId": "ac20be93-53a3-4b96-bedf-741cee52c4a9"
   },
   "execution_count": 118,
   "outputs": [
    {
     "output_type": "execute_result",
     "data": {
      "text/plain": [
       "armed        False      True\n",
       "race                        \n",
       "Other     0.142857  0.857143\n",
       "Black     0.107075  0.892925\n",
       "Hispanic  0.081690  0.918310\n",
       "Native    0.076923  0.923077\n",
       "White     0.058708  0.941292"
      ],
      "text/html": [
       "\n",
       "  <div id=\"df-2b2ddd76-8271-44c5-b41f-d844fe0523cd\">\n",
       "    <div class=\"colab-df-container\">\n",
       "      <div>\n",
       "<style scoped>\n",
       "    .dataframe tbody tr th:only-of-type {\n",
       "        vertical-align: middle;\n",
       "    }\n",
       "\n",
       "    .dataframe tbody tr th {\n",
       "        vertical-align: top;\n",
       "    }\n",
       "\n",
       "    .dataframe thead th {\n",
       "        text-align: right;\n",
       "    }\n",
       "</style>\n",
       "<table border=\"1\" class=\"dataframe\">\n",
       "  <thead>\n",
       "    <tr style=\"text-align: right;\">\n",
       "      <th>armed</th>\n",
       "      <th>False</th>\n",
       "      <th>True</th>\n",
       "    </tr>\n",
       "    <tr>\n",
       "      <th>race</th>\n",
       "      <th></th>\n",
       "      <th></th>\n",
       "    </tr>\n",
       "  </thead>\n",
       "  <tbody>\n",
       "    <tr>\n",
       "      <th>Other</th>\n",
       "      <td>0.142857</td>\n",
       "      <td>0.857143</td>\n",
       "    </tr>\n",
       "    <tr>\n",
       "      <th>Black</th>\n",
       "      <td>0.107075</td>\n",
       "      <td>0.892925</td>\n",
       "    </tr>\n",
       "    <tr>\n",
       "      <th>Hispanic</th>\n",
       "      <td>0.081690</td>\n",
       "      <td>0.918310</td>\n",
       "    </tr>\n",
       "    <tr>\n",
       "      <th>Native</th>\n",
       "      <td>0.076923</td>\n",
       "      <td>0.923077</td>\n",
       "    </tr>\n",
       "    <tr>\n",
       "      <th>White</th>\n",
       "      <td>0.058708</td>\n",
       "      <td>0.941292</td>\n",
       "    </tr>\n",
       "  </tbody>\n",
       "</table>\n",
       "</div>\n",
       "      <button class=\"colab-df-convert\" onclick=\"convertToInteractive('df-2b2ddd76-8271-44c5-b41f-d844fe0523cd')\"\n",
       "              title=\"Convert this dataframe to an interactive table.\"\n",
       "              style=\"display:none;\">\n",
       "        \n",
       "  <svg xmlns=\"http://www.w3.org/2000/svg\" height=\"24px\"viewBox=\"0 0 24 24\"\n",
       "       width=\"24px\">\n",
       "    <path d=\"M0 0h24v24H0V0z\" fill=\"none\"/>\n",
       "    <path d=\"M18.56 5.44l.94 2.06.94-2.06 2.06-.94-2.06-.94-.94-2.06-.94 2.06-2.06.94zm-11 1L8.5 8.5l.94-2.06 2.06-.94-2.06-.94L8.5 2.5l-.94 2.06-2.06.94zm10 10l.94 2.06.94-2.06 2.06-.94-2.06-.94-.94-2.06-.94 2.06-2.06.94z\"/><path d=\"M17.41 7.96l-1.37-1.37c-.4-.4-.92-.59-1.43-.59-.52 0-1.04.2-1.43.59L10.3 9.45l-7.72 7.72c-.78.78-.78 2.05 0 2.83L4 21.41c.39.39.9.59 1.41.59.51 0 1.02-.2 1.41-.59l7.78-7.78 2.81-2.81c.8-.78.8-2.07 0-2.86zM5.41 20L4 18.59l7.72-7.72 1.47 1.35L5.41 20z\"/>\n",
       "  </svg>\n",
       "      </button>\n",
       "      \n",
       "  <style>\n",
       "    .colab-df-container {\n",
       "      display:flex;\n",
       "      flex-wrap:wrap;\n",
       "      gap: 12px;\n",
       "    }\n",
       "\n",
       "    .colab-df-convert {\n",
       "      background-color: #E8F0FE;\n",
       "      border: none;\n",
       "      border-radius: 50%;\n",
       "      cursor: pointer;\n",
       "      display: none;\n",
       "      fill: #1967D2;\n",
       "      height: 32px;\n",
       "      padding: 0 0 0 0;\n",
       "      width: 32px;\n",
       "    }\n",
       "\n",
       "    .colab-df-convert:hover {\n",
       "      background-color: #E2EBFA;\n",
       "      box-shadow: 0px 1px 2px rgba(60, 64, 67, 0.3), 0px 1px 3px 1px rgba(60, 64, 67, 0.15);\n",
       "      fill: #174EA6;\n",
       "    }\n",
       "\n",
       "    [theme=dark] .colab-df-convert {\n",
       "      background-color: #3B4455;\n",
       "      fill: #D2E3FC;\n",
       "    }\n",
       "\n",
       "    [theme=dark] .colab-df-convert:hover {\n",
       "      background-color: #434B5C;\n",
       "      box-shadow: 0px 1px 3px 1px rgba(0, 0, 0, 0.15);\n",
       "      filter: drop-shadow(0px 1px 2px rgba(0, 0, 0, 0.3));\n",
       "      fill: #FFFFFF;\n",
       "    }\n",
       "  </style>\n",
       "\n",
       "      <script>\n",
       "        const buttonEl =\n",
       "          document.querySelector('#df-2b2ddd76-8271-44c5-b41f-d844fe0523cd button.colab-df-convert');\n",
       "        buttonEl.style.display =\n",
       "          google.colab.kernel.accessAllowed ? 'block' : 'none';\n",
       "\n",
       "        async function convertToInteractive(key) {\n",
       "          const element = document.querySelector('#df-2b2ddd76-8271-44c5-b41f-d844fe0523cd');\n",
       "          const dataTable =\n",
       "            await google.colab.kernel.invokeFunction('convertToInteractive',\n",
       "                                                     [key], {});\n",
       "          if (!dataTable) return;\n",
       "\n",
       "          const docLinkHtml = 'Like what you see? Visit the ' +\n",
       "            '<a target=\"_blank\" href=https://colab.research.google.com/notebooks/data_table.ipynb>data table notebook</a>'\n",
       "            + ' to learn more about interactive tables.';\n",
       "          element.innerHTML = '';\n",
       "          dataTable['output_type'] = 'display_data';\n",
       "          await google.colab.output.renderOutput(dataTable, element);\n",
       "          const docLink = document.createElement('div');\n",
       "          docLink.innerHTML = docLinkHtml;\n",
       "          element.appendChild(docLink);\n",
       "        }\n",
       "      </script>\n",
       "    </div>\n",
       "  </div>\n",
       "  "
      ]
     },
     "metadata": {},
     "execution_count": 118
    }
   ]
  },
  {
   "cell_type": "markdown",
   "source": [
    "the proportion analysis showcasing the white race who are armed are the victims and highest shooting rate "
   ],
   "metadata": {
    "id": "2UuZHRE-v0IF"
   }
  },
  {
   "cell_type": "code",
   "source": [
    "# lets see the the proportion for unarmed race.\n",
    "df_prop[False].reset_index()"
   ],
   "metadata": {
    "colab": {
     "base_uri": "https://localhost:8080/",
     "height": 206
    },
    "id": "eJCrBFtrsZMP",
    "outputId": "4e74a5ba-4129-480c-bcad-7ad968691bed"
   },
   "execution_count": 119,
   "outputs": [
    {
     "output_type": "execute_result",
     "data": {
      "text/plain": [
       "       race     False\n",
       "0     Other  0.142857\n",
       "1     Black  0.107075\n",
       "2  Hispanic  0.081690\n",
       "3    Native  0.076923\n",
       "4     White  0.058708"
      ],
      "text/html": [
       "\n",
       "  <div id=\"df-27d9c91f-9d63-44eb-bee4-343f85823776\">\n",
       "    <div class=\"colab-df-container\">\n",
       "      <div>\n",
       "<style scoped>\n",
       "    .dataframe tbody tr th:only-of-type {\n",
       "        vertical-align: middle;\n",
       "    }\n",
       "\n",
       "    .dataframe tbody tr th {\n",
       "        vertical-align: top;\n",
       "    }\n",
       "\n",
       "    .dataframe thead th {\n",
       "        text-align: right;\n",
       "    }\n",
       "</style>\n",
       "<table border=\"1\" class=\"dataframe\">\n",
       "  <thead>\n",
       "    <tr style=\"text-align: right;\">\n",
       "      <th></th>\n",
       "      <th>race</th>\n",
       "      <th>False</th>\n",
       "    </tr>\n",
       "  </thead>\n",
       "  <tbody>\n",
       "    <tr>\n",
       "      <th>0</th>\n",
       "      <td>Other</td>\n",
       "      <td>0.142857</td>\n",
       "    </tr>\n",
       "    <tr>\n",
       "      <th>1</th>\n",
       "      <td>Black</td>\n",
       "      <td>0.107075</td>\n",
       "    </tr>\n",
       "    <tr>\n",
       "      <th>2</th>\n",
       "      <td>Hispanic</td>\n",
       "      <td>0.081690</td>\n",
       "    </tr>\n",
       "    <tr>\n",
       "      <th>3</th>\n",
       "      <td>Native</td>\n",
       "      <td>0.076923</td>\n",
       "    </tr>\n",
       "    <tr>\n",
       "      <th>4</th>\n",
       "      <td>White</td>\n",
       "      <td>0.058708</td>\n",
       "    </tr>\n",
       "  </tbody>\n",
       "</table>\n",
       "</div>\n",
       "      <button class=\"colab-df-convert\" onclick=\"convertToInteractive('df-27d9c91f-9d63-44eb-bee4-343f85823776')\"\n",
       "              title=\"Convert this dataframe to an interactive table.\"\n",
       "              style=\"display:none;\">\n",
       "        \n",
       "  <svg xmlns=\"http://www.w3.org/2000/svg\" height=\"24px\"viewBox=\"0 0 24 24\"\n",
       "       width=\"24px\">\n",
       "    <path d=\"M0 0h24v24H0V0z\" fill=\"none\"/>\n",
       "    <path d=\"M18.56 5.44l.94 2.06.94-2.06 2.06-.94-2.06-.94-.94-2.06-.94 2.06-2.06.94zm-11 1L8.5 8.5l.94-2.06 2.06-.94-2.06-.94L8.5 2.5l-.94 2.06-2.06.94zm10 10l.94 2.06.94-2.06 2.06-.94-2.06-.94-.94-2.06-.94 2.06-2.06.94z\"/><path d=\"M17.41 7.96l-1.37-1.37c-.4-.4-.92-.59-1.43-.59-.52 0-1.04.2-1.43.59L10.3 9.45l-7.72 7.72c-.78.78-.78 2.05 0 2.83L4 21.41c.39.39.9.59 1.41.59.51 0 1.02-.2 1.41-.59l7.78-7.78 2.81-2.81c.8-.78.8-2.07 0-2.86zM5.41 20L4 18.59l7.72-7.72 1.47 1.35L5.41 20z\"/>\n",
       "  </svg>\n",
       "      </button>\n",
       "      \n",
       "  <style>\n",
       "    .colab-df-container {\n",
       "      display:flex;\n",
       "      flex-wrap:wrap;\n",
       "      gap: 12px;\n",
       "    }\n",
       "\n",
       "    .colab-df-convert {\n",
       "      background-color: #E8F0FE;\n",
       "      border: none;\n",
       "      border-radius: 50%;\n",
       "      cursor: pointer;\n",
       "      display: none;\n",
       "      fill: #1967D2;\n",
       "      height: 32px;\n",
       "      padding: 0 0 0 0;\n",
       "      width: 32px;\n",
       "    }\n",
       "\n",
       "    .colab-df-convert:hover {\n",
       "      background-color: #E2EBFA;\n",
       "      box-shadow: 0px 1px 2px rgba(60, 64, 67, 0.3), 0px 1px 3px 1px rgba(60, 64, 67, 0.15);\n",
       "      fill: #174EA6;\n",
       "    }\n",
       "\n",
       "    [theme=dark] .colab-df-convert {\n",
       "      background-color: #3B4455;\n",
       "      fill: #D2E3FC;\n",
       "    }\n",
       "\n",
       "    [theme=dark] .colab-df-convert:hover {\n",
       "      background-color: #434B5C;\n",
       "      box-shadow: 0px 1px 3px 1px rgba(0, 0, 0, 0.15);\n",
       "      filter: drop-shadow(0px 1px 2px rgba(0, 0, 0, 0.3));\n",
       "      fill: #FFFFFF;\n",
       "    }\n",
       "  </style>\n",
       "\n",
       "      <script>\n",
       "        const buttonEl =\n",
       "          document.querySelector('#df-27d9c91f-9d63-44eb-bee4-343f85823776 button.colab-df-convert');\n",
       "        buttonEl.style.display =\n",
       "          google.colab.kernel.accessAllowed ? 'block' : 'none';\n",
       "\n",
       "        async function convertToInteractive(key) {\n",
       "          const element = document.querySelector('#df-27d9c91f-9d63-44eb-bee4-343f85823776');\n",
       "          const dataTable =\n",
       "            await google.colab.kernel.invokeFunction('convertToInteractive',\n",
       "                                                     [key], {});\n",
       "          if (!dataTable) return;\n",
       "\n",
       "          const docLinkHtml = 'Like what you see? Visit the ' +\n",
       "            '<a target=\"_blank\" href=https://colab.research.google.com/notebooks/data_table.ipynb>data table notebook</a>'\n",
       "            + ' to learn more about interactive tables.';\n",
       "          element.innerHTML = '';\n",
       "          dataTable['output_type'] = 'display_data';\n",
       "          await google.colab.output.renderOutput(dataTable, element);\n",
       "          const docLink = document.createElement('div');\n",
       "          docLink.innerHTML = docLinkHtml;\n",
       "          element.appendChild(docLink);\n",
       "        }\n",
       "      </script>\n",
       "    </div>\n",
       "  </div>\n",
       "  "
      ]
     },
     "metadata": {},
     "execution_count": 119
    }
   ]
  },
  {
   "cell_type": "markdown",
   "source": [
    "we can see that only about 6% of white people were shot unarmed, almost double at about 11%, we should consider here some points about on what basis these shooting took place such as racism, indiscipline a deep investigation needed from USA governments.\n"
   ],
   "metadata": {
    "id": "_dg2gcIuzKM8"
   }
  },
  {
   "cell_type": "markdown",
   "source": [
    "**5.6 caluting the proportion of male and female victims**"
   ],
   "metadata": {
    "id": "2FfCVeGUHzz0"
   }
  },
  {
   "cell_type": "code",
   "source": [
    "def cplot(fig, data, feature, title, label1, label2):\n",
    "\n",
    "    ax = None\n",
    "\n",
    "    ax = sns.countplot(data=data, x=feature)\n",
    "    plt.xlabel(label2)\n",
    "    plt.ylabel(label1)\n",
    "    plt.title(title)\n",
    "\n",
    "    if ax is not None:\n",
    "        for p in ax.patches:\n",
    "            percentage = \"{:.1f}%\".format(100 * p.get_height() / len(data))\n",
    "            x = p.get_x() + p.get_width() - 0.5\n",
    "            y = p.get_height() + 0.1\n",
    "            ax.annotate(percentage, (x, y))\n",
    "    plt.show()"
   ],
   "metadata": {
    "id": "OHA-TKdS4npb"
   },
   "execution_count": 120,
   "outputs": []
  },
  {
   "cell_type": "code",
   "source": [
    "ylabel = \"Count\"\n",
    "xlabel = \" Gender\"\n",
    "title = \"Counts of death by gender\"\n",
    "plt.figure(figsize=(10, 6))\n",
    "cplot(\"seaborn\", df_clean, \"gender\", title, ylabel, xlabel)"
   ],
   "metadata": {
    "colab": {
     "base_uri": "https://localhost:8080/",
     "height": 410
    },
    "id": "8A7RAMXr0Fe4",
    "outputId": "785fd2af-cce6-4da9-fa5d-4df4d7972f2f"
   },
   "execution_count": 121,
   "outputs": [
    {
     "output_type": "display_data",
     "data": {
      "text/plain": [
       "<Figure size 720x432 with 1 Axes>"
      ],
      "image/png": "[encoded data removed]"
     },
     "metadata": {}
    }
   ]
  },
  {
   "cell_type": "markdown",
   "source": [
    "**Findings:**\n",
    "\n",
    "mostly males were the victims about 96% were shot by police while comapring with females of 4.2%"
   ],
   "metadata": {
    "id": "30JKrM1WFky2"
   }
  },
  {
   "cell_type": "markdown",
   "source": [
    "victims fleeing methods"
   ],
   "metadata": {
    "id": "_g9awb8tHQjc"
   }
  },
  {
   "cell_type": "markdown",
   "source": [
    "**5.7 calculation the proportion of fleeing methods**"
   ],
   "metadata": {
    "id": "Z1W90THpIAfM"
   }
  },
  {
   "cell_type": "code",
   "source": [
    "# types of escaping\n",
    "ylabel = \"Count\"\n",
    "xlabel = \"Fleeing\"\n",
    "title = \"types if escaping\"\n",
    "plt.figure(figsize=(10, 6))\n",
    "cplot(\"seaborn\", df_clean, \"flee\", title, ylabel, xlabel)"
   ],
   "metadata": {
    "colab": {
     "base_uri": "https://localhost:8080/",
     "height": 410
    },
    "id": "c558DP63IFyB",
    "outputId": "15132683-f8f8-470a-80de-2e1b8f27e574"
   },
   "execution_count": 122,
   "outputs": [
    {
     "output_type": "display_data",
     "data": {
      "text/plain": [
       "<Figure size 720x432 with 1 Axes>"
      ],
      "image/png": "[encoded data removed]"
     },
     "metadata": {}
    }
   ]
  },
  {
   "cell_type": "markdown",
   "source": [
    "**Findings**\n",
    "\n",
    "we can observe that not feeling took lot chunk of portion of the dataset and with this we can analyse that most of the victims not tried to flee during the shoot out\n",
    "\n",
    "\n",
    "Only 15% of people tried to flee by car and 12% tried to flee by foot"
   ],
   "metadata": {
    "id": "YP_c7bBaJEGw"
   }
  },
  {
   "cell_type": "markdown",
   "source": [
    "**5.8 Threat Types**"
   ],
   "metadata": {
    "id": "7U_3Z2mdMIZU"
   }
  },
  {
   "cell_type": "code",
   "source": [
    "# types of threats\n",
    "ylabel = \"Count\"\n",
    "xlabel = \"Types of Threat\"\n",
    "title = \"Counts of Threat Level\"\n",
    "plt.figure(figsize=(10, 6))\n",
    "cplot(\"seaborn\", df_clean, \"threat_level\", title, ylabel, xlabel)"
   ],
   "metadata": {
    "colab": {
     "base_uri": "https://localhost:8080/",
     "height": 410
    },
    "id": "vshFe-EANDCj",
    "outputId": "02c0b563-d2c6-4c74-c92b-5fbbed6223d1"
   },
   "execution_count": 123,
   "outputs": [
    {
     "output_type": "display_data",
     "data": {
      "text/plain": [
       "<Figure size 720x432 with 1 Axes>"
      ],
      "image/png": "[encoded data removed]"
     },
     "metadata": {}
    }
   ]
  },
  {
   "cell_type": "markdown",
   "source": [
    "**Findings:**\n",
    "\n",
    " about 65% of the victims were attacted by the police and some victims of 29% has other types threat and 5% of them is the threat is undetermined.\n"
   ],
   "metadata": {
    "id": "CWz8vnn8N_9l"
   }
  },
  {
   "cell_type": "markdown",
   "source": [
    "**5.9 shooting by state**"
   ],
   "metadata": {
    "id": "r1NPTXbdZNIS"
   }
  },
  {
   "cell_type": "code",
   "source": [
    "ylabel = \"Count\"\n",
    "xlabel = \"Types of Threat\"\n",
    "title = \"state wide killing\"\n",
    "plt.figure(figsize=(18, 15))\n",
    "sns.countplot(y=\"state\", data=df_clean, order=df_clean.state.value_counts().index, color=\"r\")"
   ],
   "metadata": {
    "colab": {
     "base_uri": "https://localhost:8080/",
     "height": 660
    },
    "id": "thBrmEIZN7zK",
    "outputId": "aedb8931-1937-482f-94c0-bbed4c2999e3"
   },
   "execution_count": 124,
   "outputs": [
    {
     "output_type": "execute_result",
     "data": {
      "text/plain": [
       "<matplotlib.axes._subplots.AxesSubplot at 0x7fce5b173b80>"
      ]
     },
     "metadata": {},
     "execution_count": 124
    },
    {
     "output_type": "display_data",
     "data": {
      "text/plain": [
       "<Figure size 1296x1080 with 1 Axes>"
      ],
      "image/png": "[encoded data removed]"
     },
     "metadata": {}
    }
   ]
  },
  {
   "cell_type": "markdown",
   "source": [
    "**Findings:**\n",
    "\n",
    "California is the state with the Highest Number of Killings followed by Texas, Florida, Arizona, and so on We can see that California has by far the most fatal shootings by the police"
   ],
   "metadata": {
    "id": "YrgBjCmsRUGg"
   }
  },
  {
   "cell_type": "markdown",
   "source": [
    "**5.11 shootings by city**"
   ],
   "metadata": {
    "id": "L_lw5ZYdZVL6"
   }
  },
  {
   "cell_type": "code",
   "source": [
    "x = df_clean.groupby(\"city\")[\"name\"].count()\n",
    "x = x.sort_values(ascending=False)[:25]\n",
    "fig, ax = plt.subplots(figsize=(15, 8))\n",
    "sns.barplot(x=x, y=x.index, color=\"b\")\n",
    "plt.xticks(np.arange(0, 41, 2))\n",
    "plt.title(\"shooting counts on top 25 cities from 2015 to 2017\");"
   ],
   "metadata": {
    "colab": {
     "base_uri": "https://localhost:8080/",
     "height": 418
    },
    "id": "gZ8R5X53TvOF",
    "outputId": "8f55629b-cf71-4cd9-8778-563a7482192a"
   },
   "execution_count": 125,
   "outputs": [
    {
     "output_type": "display_data",
     "data": {
      "text/plain": [
       "<Figure size 1080x576 with 1 Axes>"
      ],
      "image/png": "[encoded data removed]"
     },
     "metadata": {}
    }
   ]
  },
  {
   "cell_type": "markdown",
   "source": [
    "**Findings:**\n",
    "\n",
    "losangeles is the most effected city with 30 deaths followed by houston, phoenix etc."
   ],
   "metadata": {
    "id": "HuxSicpqW11g"
   }
  },
  {
   "cell_type": "markdown",
   "source": [
    "**5.12 shootings by year**"
   ],
   "metadata": {
    "id": "Uu5JqcpaZIli"
   }
  },
  {
   "cell_type": "code",
   "source": [
    "df_clean.dtypes"
   ],
   "metadata": {
    "colab": {
     "base_uri": "https://localhost:8080/"
    },
    "id": "wrfGmdMp-3Wv",
    "outputId": "1e2ef3d0-8e44-49fd-e3e5-de3e4d8f57fe"
   },
   "execution_count": 126,
   "outputs": [
    {
     "output_type": "execute_result",
     "data": {
      "text/plain": [
       "index                               int64\n",
       "name                               object\n",
       "date                       datetime64[ns]\n",
       "manner_of_death                    object\n",
       "armed                                bool\n",
       "age                               float64\n",
       "gender                             object\n",
       "race                               object\n",
       "city                               object\n",
       "state                              object\n",
       "signs_of_mental_illness              bool\n",
       "threat_level                       object\n",
       "flee                               object\n",
       "body_camera                          bool\n",
       "dtype: object"
      ]
     },
     "metadata": {},
     "execution_count": 126
    }
   ]
  },
  {
   "cell_type": "markdown",
   "source": [
    "**5.13 Mental Ilness**"
   ],
   "metadata": {
    "id": "oWDFT127_seC"
   }
  },
  {
   "cell_type": "code",
   "source": [
    "mental_ilness = df_clean.groupby(\n",
    "    [\"state\", \"signs_of_mental_illness\"], as_index=False\n",
    ").index.count()\n",
    "mental_ilness.sort_values(\n",
    "    by=[\"signs_of_mental_illness\", \"index\"], ascending=[False, False], inplace=True\n",
    ")\n",
    "mental_ilness\n",
    "mental_ilness = mental_ilness.rename(columns={\"index\": \"count\"})\n",
    "mental_ilness\n",
    "# checking where the mental illness is true\n",
    "mental_ilness_true = (\n",
    "    mental_ilness[mental_ilness[\"signs_of_mental_illness\"] == True]\n",
    "    .drop(\"signs_of_mental_illness\", axis=1)\n",
    "    .reset_index(drop=True)\n",
    ")\n",
    "mental_ilness_true.head(3)"
   ],
   "metadata": {
    "colab": {
     "base_uri": "https://localhost:8080/",
     "height": 143
    },
    "id": "V1bsYyGl_j4T",
    "outputId": "5a024c02-8382-406e-89f5-3cf47f62c84e"
   },
   "execution_count": 127,
   "outputs": [
    {
     "output_type": "execute_result",
     "data": {
      "text/plain": [
       "  state  count\n",
       "0    CA     76\n",
       "1    TX     45\n",
       "2    FL     34"
      ],
      "text/html": [
       "\n",
       "  <div id=\"df-9188f35e-4495-4993-9639-71764fcd2dd6\">\n",
       "    <div class=\"colab-df-container\">\n",
       "      <div>\n",
       "<style scoped>\n",
       "    .dataframe tbody tr th:only-of-type {\n",
       "        vertical-align: middle;\n",
       "    }\n",
       "\n",
       "    .dataframe tbody tr th {\n",
       "        vertical-align: top;\n",
       "    }\n",
       "\n",
       "    .dataframe thead th {\n",
       "        text-align: right;\n",
       "    }\n",
       "</style>\n",
       "<table border=\"1\" class=\"dataframe\">\n",
       "  <thead>\n",
       "    <tr style=\"text-align: right;\">\n",
       "      <th></th>\n",
       "      <th>state</th>\n",
       "      <th>count</th>\n",
       "    </tr>\n",
       "  </thead>\n",
       "  <tbody>\n",
       "    <tr>\n",
       "      <th>0</th>\n",
       "      <td>CA</td>\n",
       "      <td>76</td>\n",
       "    </tr>\n",
       "    <tr>\n",
       "      <th>1</th>\n",
       "      <td>TX</td>\n",
       "      <td>45</td>\n",
       "    </tr>\n",
       "    <tr>\n",
       "      <th>2</th>\n",
       "      <td>FL</td>\n",
       "      <td>34</td>\n",
       "    </tr>\n",
       "  </tbody>\n",
       "</table>\n",
       "</div>\n",
       "      <button class=\"colab-df-convert\" onclick=\"convertToInteractive('df-9188f35e-4495-4993-9639-71764fcd2dd6')\"\n",
       "              title=\"Convert this dataframe to an interactive table.\"\n",
       "              style=\"display:none;\">\n",
       "        \n",
       "  <svg xmlns=\"http://www.w3.org/2000/svg\" height=\"24px\"viewBox=\"0 0 24 24\"\n",
       "       width=\"24px\">\n",
       "    <path d=\"M0 0h24v24H0V0z\" fill=\"none\"/>\n",
       "    <path d=\"M18.56 5.44l.94 2.06.94-2.06 2.06-.94-2.06-.94-.94-2.06-.94 2.06-2.06.94zm-11 1L8.5 8.5l.94-2.06 2.06-.94-2.06-.94L8.5 2.5l-.94 2.06-2.06.94zm10 10l.94 2.06.94-2.06 2.06-.94-2.06-.94-.94-2.06-.94 2.06-2.06.94z\"/><path d=\"M17.41 7.96l-1.37-1.37c-.4-.4-.92-.59-1.43-.59-.52 0-1.04.2-1.43.59L10.3 9.45l-7.72 7.72c-.78.78-.78 2.05 0 2.83L4 21.41c.39.39.9.59 1.41.59.51 0 1.02-.2 1.41-.59l7.78-7.78 2.81-2.81c.8-.78.8-2.07 0-2.86zM5.41 20L4 18.59l7.72-7.72 1.47 1.35L5.41 20z\"/>\n",
       "  </svg>\n",
       "      </button>\n",
       "      \n",
       "  <style>\n",
       "    .colab-df-container {\n",
       "      display:flex;\n",
       "      flex-wrap:wrap;\n",
       "      gap: 12px;\n",
       "    }\n",
       "\n",
       "    .colab-df-convert {\n",
       "      background-color: #E8F0FE;\n",
       "      border: none;\n",
       "      border-radius: 50%;\n",
       "      cursor: pointer;\n",
       "      display: none;\n",
       "      fill: #1967D2;\n",
       "      height: 32px;\n",
       "      padding: 0 0 0 0;\n",
       "      width: 32px;\n",
       "    }\n",
       "\n",
       "    .colab-df-convert:hover {\n",
       "      background-color: #E2EBFA;\n",
       "      box-shadow: 0px 1px 2px rgba(60, 64, 67, 0.3), 0px 1px 3px 1px rgba(60, 64, 67, 0.15);\n",
       "      fill: #174EA6;\n",
       "    }\n",
       "\n",
       "    [theme=dark] .colab-df-convert {\n",
       "      background-color: #3B4455;\n",
       "      fill: #D2E3FC;\n",
       "    }\n",
       "\n",
       "    [theme=dark] .colab-df-convert:hover {\n",
       "      background-color: #434B5C;\n",
       "      box-shadow: 0px 1px 3px 1px rgba(0, 0, 0, 0.15);\n",
       "      filter: drop-shadow(0px 1px 2px rgba(0, 0, 0, 0.3));\n",
       "      fill: #FFFFFF;\n",
       "    }\n",
       "  </style>\n",
       "\n",
       "      <script>\n",
       "        const buttonEl =\n",
       "          document.querySelector('#df-9188f35e-4495-4993-9639-71764fcd2dd6 button.colab-df-convert');\n",
       "        buttonEl.style.display =\n",
       "          google.colab.kernel.accessAllowed ? 'block' : 'none';\n",
       "\n",
       "        async function convertToInteractive(key) {\n",
       "          const element = document.querySelector('#df-9188f35e-4495-4993-9639-71764fcd2dd6');\n",
       "          const dataTable =\n",
       "            await google.colab.kernel.invokeFunction('convertToInteractive',\n",
       "                                                     [key], {});\n",
       "          if (!dataTable) return;\n",
       "\n",
       "          const docLinkHtml = 'Like what you see? Visit the ' +\n",
       "            '<a target=\"_blank\" href=https://colab.research.google.com/notebooks/data_table.ipynb>data table notebook</a>'\n",
       "            + ' to learn more about interactive tables.';\n",
       "          element.innerHTML = '';\n",
       "          dataTable['output_type'] = 'display_data';\n",
       "          await google.colab.output.renderOutput(dataTable, element);\n",
       "          const docLink = document.createElement('div');\n",
       "          docLink.innerHTML = docLinkHtml;\n",
       "          element.appendChild(docLink);\n",
       "        }\n",
       "      </script>\n",
       "    </div>\n",
       "  </div>\n",
       "  "
      ]
     },
     "metadata": {},
     "execution_count": 127
    }
   ]
  },
  {
   "cell_type": "code",
   "source": [
    "# Plotting the data\n",
    "fig, ax = plt.subplots(figsize=(15, 8))\n",
    "sns.scatterplot(\n",
    "    ax=ax, data=mental_ilness, x=\"state\", y=\"count\", hue=\"signs_of_mental_illness\"\n",
    ").legend(\n",
    "    loc=\"Upper left\",\n",
    "    title=\"Signs of mental ilness\",\n",
    ")\n",
    "plt.xticks(rotation=90)\n",
    "ax.xaxis.grid(True)\n",
    "plt.ylabel(\"Fatal shootings\")\n",
    "plt.xlabel(\"State\")\n",
    "plt.title(\"Fatal shootings by state and signs of mental ilness\")\n",
    "plt.show()"
   ],
   "metadata": {
    "colab": {
     "base_uri": "https://localhost:8080/",
     "height": 454
    },
    "id": "do2ppMJXBDRY",
    "outputId": "fe447739-1093-4760-c0e1-1f0568baf591"
   },
   "execution_count": 128,
   "outputs": [
    {
     "output_type": "display_data",
     "data": {
      "text/plain": [
       "<Figure size 1080x576 with 1 Axes>"
      ],
      "image/png": "[encoded data removed]"
     },
     "metadata": {}
    }
   ]
  },
  {
   "cell_type": "markdown",
   "source": [
    "**Findings:**\n",
    "\n",
    "califirnia , texas, and florida carrying ovr the most cases of fatal shooting.\n",
    "\n",
    "California has by far the most fatal shootings by the police"
   ],
   "metadata": {
    "id": "1I27UfEKEZ0n"
   }
  },
  {
   "cell_type": "markdown",
   "source": [
    "# **6. Dimensionality reduction**"
   ],
   "metadata": {
    "id": "ErhKJxn8JkB8"
   }
  },
  {
   "cell_type": "markdown",
   "source": [
    "Principal Component Analysis, or PCA, is a dimensionality-reduction method that is often used to reduce the dimensionality of large data sets, by transforming a large set of variables into a smaller one that still contains most of the information in the large set.\n",
    "\n",
    "\n",
    "What are the principal components? Principal components are the derived features which explain the maximum variance in the data. The first principal component explains the most variance, the 2nd a bit less and so on. Each of the new dimensions found using PCA is a linear combination of the original features.\n",
    "\n",
    "\n",
    "\n",
    "Steps involved in PCA:\n",
    "\n",
    "\n",
    "Scaling the data: PCA tries to get the features with the maximum variance and the variance is high for high magnitude features. So we need to scale the data.\n",
    "\n",
    "\n",
    "Calculate the covariance to understand the variables that are highly correlated.\n",
    "\n",
    "\n",
    "Calculate eigen vectors and eigen values (they are computed from covariance).\n",
    "\n",
    "\n",
    "Eigen vectors determine the direction of new feature space.\n",
    "\n",
    "\n",
    "Eigen values determine their magnitude ie., the scalar of the respective eigen vectors.\n",
    "\n",
    "\n",
    "For eg. if you have 2 dimensional dataset, there will be 2 eigen vectors and their respective eigen values. Reason for having the eigen vectors is to use the covariance matrix to understand where in the data, there is more amount of variance. The covariance matrix generally gives the overall variance among all the variables in the data. More the variance denotes more information about the data. So eigen vector will tell where in the data, we have maximum variance.\n",
    "Compute the Principal Components.\n",
    "\n",
    "\n",
    "After identifying eigen vectors and eigen values, sort them in descending order. Highest eigen value is the most siginificant component.\n",
    "\n",
    "\n",
    "PCs are the new features that are obtained and they posses most of the useful information that was scattered among the initial variables.\n",
    "\n",
    "\n",
    "\n",
    "These PCs are orthogonal to each other ie., the correlation between 2 variables will be zero.\n",
    "Reduce the dimensions of the data:\n",
    "Eliminate the PCs that have least eigen value. They are not important."
   ],
   "metadata": {
    "id": "yBF3UeoLYvry"
   }
  },
  {
   "cell_type": "code",
   "source": [
    "# dropping some features that has more unique values only for this task(but in general we can perform onehot encoding)\n",
    "df_clean.drop([\"name\", \"city\", \"state\", \"date\", \"threat_level\", \"index\"], axis=1, inplace=True)"
   ],
   "metadata": {
    "id": "rt4AEM8zZQRQ"
   },
   "execution_count": 129,
   "outputs": []
  },
  {
   "cell_type": "code",
   "source": [
    "df_clean[\"body_camera\"] = df_clean[\"body_camera\"].astype(\"int64\")"
   ],
   "metadata": {
    "id": "xCjUM8zFZm33"
   },
   "execution_count": 130,
   "outputs": []
  },
  {
   "cell_type": "code",
   "source": [
    "# Lets Encode these Object Data Types as Numerical Data Types\n",
    "\n",
    "from sklearn.preprocessing import LabelEncoder\n",
    "\n",
    "le = LabelEncoder()\n",
    "df_clean[\"manner_of_death\"] = le.fit_transform(df_clean[\"manner_of_death\"])\n",
    "df_clean[\"signs_of_mental_illness\"] = le.fit_transform(df_clean[\"signs_of_mental_illness\"])\n",
    "df_clean[\"armed\"] = le.fit_transform(df_clean[\"armed\"])\n",
    "df_clean[\"race\"] = le.fit_transform(df_clean[\"race\"])\n",
    "df_clean[\"flee\"] = le.fit_transform(df_clean[\"flee\"])\n",
    "df_clean[\"gender\"] = le.fit_transform(df_clean[\"gender\"])\n",
    "df_clean[\"body_camera\"] = le.fit_transform(df_clean[\"body_camera\"])\n",
    "\n",
    "# lets again check whether there any Object Data Type Columns are Left\n",
    "df_clean.select_dtypes(\"object\").columns"
   ],
   "metadata": {
    "colab": {
     "base_uri": "https://localhost:8080/"
    },
    "id": "xZ_YKvVhQL7j",
    "outputId": "fc1f1179-ac62-43b5-a077-039f4f472a84"
   },
   "execution_count": 131,
   "outputs": [
    {
     "output_type": "execute_result",
     "data": {
      "text/plain": [
       "Index([], dtype='object')"
      ]
     },
     "metadata": {},
     "execution_count": 131
    }
   ]
  },
  {
   "cell_type": "code",
   "source": [
    "df_clean.info()"
   ],
   "metadata": {
    "colab": {
     "base_uri": "https://localhost:8080/"
    },
    "id": "FDD6UOG8bDAB",
    "outputId": "20be2021-3534-400e-d2ba-d4fac3a5a557"
   },
   "execution_count": 132,
   "outputs": [
    {
     "output_type": "stream",
     "name": "stdout",
     "text": [
      "<class 'pandas.core.frame.DataFrame'>\n",
      "RangeIndex: 1986 entries, 0 to 1985\n",
      "Data columns (total 8 columns):\n",
      " #   Column                   Non-Null Count  Dtype  \n",
      "---  ------                   --------------  -----  \n",
      " 0   manner_of_death          1986 non-null   int64  \n",
      " 1   armed                    1986 non-null   int64  \n",
      " 2   age                      1986 non-null   float64\n",
      " 3   gender                   1986 non-null   int64  \n",
      " 4   race                     1986 non-null   int64  \n",
      " 5   signs_of_mental_illness  1986 non-null   int64  \n",
      " 6   flee                     1986 non-null   int64  \n",
      " 7   body_camera              1986 non-null   int64  \n",
      "dtypes: float64(1), int64(7)\n",
      "memory usage: 124.2 KB\n"
     ]
    }
   ]
  },
  {
   "cell_type": "code",
   "source": [],
   "metadata": {
    "id": "z99vo_Nmobnw"
   },
   "execution_count": 132,
   "outputs": []
  },
  {
   "cell_type": "code",
   "source": [
    "df_clean.head()"
   ],
   "metadata": {
    "colab": {
     "base_uri": "https://localhost:8080/",
     "height": 206
    },
    "id": "czzJXrGsoJHt",
    "outputId": "d7eb82a5-75cb-4394-ed71-b5337a777f51"
   },
   "execution_count": 133,
   "outputs": [
    {
     "output_type": "execute_result",
     "data": {
      "text/plain": [
       "   manner_of_death  armed   age  gender  race  signs_of_mental_illness  flee  \\\n",
       "0                0      1  53.0       1     0                        1     2   \n",
       "1                0      1  47.0       1     5                        0     2   \n",
       "2                1      0  23.0       1     2                        0     2   \n",
       "3                0      1  32.0       1     5                        1     2   \n",
       "4                0      1  39.0       1     2                        0     2   \n",
       "\n",
       "   body_camera  \n",
       "0            0  \n",
       "1            0  \n",
       "2            0  \n",
       "3            0  \n",
       "4            0  "
      ],
      "text/html": [
       "\n",
       "  <div id=\"df-d8585e8e-505c-4582-a3b2-52949f64d8eb\">\n",
       "    <div class=\"colab-df-container\">\n",
       "      <div>\n",
       "<style scoped>\n",
       "    .dataframe tbody tr th:only-of-type {\n",
       "        vertical-align: middle;\n",
       "    }\n",
       "\n",
       "    .dataframe tbody tr th {\n",
       "        vertical-align: top;\n",
       "    }\n",
       "\n",
       "    .dataframe thead th {\n",
       "        text-align: right;\n",
       "    }\n",
       "</style>\n",
       "<table border=\"1\" class=\"dataframe\">\n",
       "  <thead>\n",
       "    <tr style=\"text-align: right;\">\n",
       "      <th></th>\n",
       "      <th>manner_of_death</th>\n",
       "      <th>armed</th>\n",
       "      <th>age</th>\n",
       "      <th>gender</th>\n",
       "      <th>race</th>\n",
       "      <th>signs_of_mental_illness</th>\n",
       "      <th>flee</th>\n",
       "      <th>body_camera</th>\n",
       "    </tr>\n",
       "  </thead>\n",
       "  <tbody>\n",
       "    <tr>\n",
       "      <th>0</th>\n",
       "      <td>0</td>\n",
       "      <td>1</td>\n",
       "      <td>53.0</td>\n",
       "      <td>1</td>\n",
       "      <td>0</td>\n",
       "      <td>1</td>\n",
       "      <td>2</td>\n",
       "      <td>0</td>\n",
       "    </tr>\n",
       "    <tr>\n",
       "      <th>1</th>\n",
       "      <td>0</td>\n",
       "      <td>1</td>\n",
       "      <td>47.0</td>\n",
       "      <td>1</td>\n",
       "      <td>5</td>\n",
       "      <td>0</td>\n",
       "      <td>2</td>\n",
       "      <td>0</td>\n",
       "    </tr>\n",
       "    <tr>\n",
       "      <th>2</th>\n",
       "      <td>1</td>\n",
       "      <td>0</td>\n",
       "      <td>23.0</td>\n",
       "      <td>1</td>\n",
       "      <td>2</td>\n",
       "      <td>0</td>\n",
       "      <td>2</td>\n",
       "      <td>0</td>\n",
       "    </tr>\n",
       "    <tr>\n",
       "      <th>3</th>\n",
       "      <td>0</td>\n",
       "      <td>1</td>\n",
       "      <td>32.0</td>\n",
       "      <td>1</td>\n",
       "      <td>5</td>\n",
       "      <td>1</td>\n",
       "      <td>2</td>\n",
       "      <td>0</td>\n",
       "    </tr>\n",
       "    <tr>\n",
       "      <th>4</th>\n",
       "      <td>0</td>\n",
       "      <td>1</td>\n",
       "      <td>39.0</td>\n",
       "      <td>1</td>\n",
       "      <td>2</td>\n",
       "      <td>0</td>\n",
       "      <td>2</td>\n",
       "      <td>0</td>\n",
       "    </tr>\n",
       "  </tbody>\n",
       "</table>\n",
       "</div>\n",
       "      <button class=\"colab-df-convert\" onclick=\"convertToInteractive('df-d8585e8e-505c-4582-a3b2-52949f64d8eb')\"\n",
       "              title=\"Convert this dataframe to an interactive table.\"\n",
       "              style=\"display:none;\">\n",
       "        \n",
       "  <svg xmlns=\"http://www.w3.org/2000/svg\" height=\"24px\"viewBox=\"0 0 24 24\"\n",
       "       width=\"24px\">\n",
       "    <path d=\"M0 0h24v24H0V0z\" fill=\"none\"/>\n",
       "    <path d=\"M18.56 5.44l.94 2.06.94-2.06 2.06-.94-2.06-.94-.94-2.06-.94 2.06-2.06.94zm-11 1L8.5 8.5l.94-2.06 2.06-.94-2.06-.94L8.5 2.5l-.94 2.06-2.06.94zm10 10l.94 2.06.94-2.06 2.06-.94-2.06-.94-.94-2.06-.94 2.06-2.06.94z\"/><path d=\"M17.41 7.96l-1.37-1.37c-.4-.4-.92-.59-1.43-.59-.52 0-1.04.2-1.43.59L10.3 9.45l-7.72 7.72c-.78.78-.78 2.05 0 2.83L4 21.41c.39.39.9.59 1.41.59.51 0 1.02-.2 1.41-.59l7.78-7.78 2.81-2.81c.8-.78.8-2.07 0-2.86zM5.41 20L4 18.59l7.72-7.72 1.47 1.35L5.41 20z\"/>\n",
       "  </svg>\n",
       "      </button>\n",
       "      \n",
       "  <style>\n",
       "    .colab-df-container {\n",
       "      display:flex;\n",
       "      flex-wrap:wrap;\n",
       "      gap: 12px;\n",
       "    }\n",
       "\n",
       "    .colab-df-convert {\n",
       "      background-color: #E8F0FE;\n",
       "      border: none;\n",
       "      border-radius: 50%;\n",
       "      cursor: pointer;\n",
       "      display: none;\n",
       "      fill: #1967D2;\n",
       "      height: 32px;\n",
       "      padding: 0 0 0 0;\n",
       "      width: 32px;\n",
       "    }\n",
       "\n",
       "    .colab-df-convert:hover {\n",
       "      background-color: #E2EBFA;\n",
       "      box-shadow: 0px 1px 2px rgba(60, 64, 67, 0.3), 0px 1px 3px 1px rgba(60, 64, 67, 0.15);\n",
       "      fill: #174EA6;\n",
       "    }\n",
       "\n",
       "    [theme=dark] .colab-df-convert {\n",
       "      background-color: #3B4455;\n",
       "      fill: #D2E3FC;\n",
       "    }\n",
       "\n",
       "    [theme=dark] .colab-df-convert:hover {\n",
       "      background-color: #434B5C;\n",
       "      box-shadow: 0px 1px 3px 1px rgba(0, 0, 0, 0.15);\n",
       "      filter: drop-shadow(0px 1px 2px rgba(0, 0, 0, 0.3));\n",
       "      fill: #FFFFFF;\n",
       "    }\n",
       "  </style>\n",
       "\n",
       "      <script>\n",
       "        const buttonEl =\n",
       "          document.querySelector('#df-d8585e8e-505c-4582-a3b2-52949f64d8eb button.colab-df-convert');\n",
       "        buttonEl.style.display =\n",
       "          google.colab.kernel.accessAllowed ? 'block' : 'none';\n",
       "\n",
       "        async function convertToInteractive(key) {\n",
       "          const element = document.querySelector('#df-d8585e8e-505c-4582-a3b2-52949f64d8eb');\n",
       "          const dataTable =\n",
       "            await google.colab.kernel.invokeFunction('convertToInteractive',\n",
       "                                                     [key], {});\n",
       "          if (!dataTable) return;\n",
       "\n",
       "          const docLinkHtml = 'Like what you see? Visit the ' +\n",
       "            '<a target=\"_blank\" href=https://colab.research.google.com/notebooks/data_table.ipynb>data table notebook</a>'\n",
       "            + ' to learn more about interactive tables.';\n",
       "          element.innerHTML = '';\n",
       "          dataTable['output_type'] = 'display_data';\n",
       "          await google.colab.output.renderOutput(dataTable, element);\n",
       "          const docLink = document.createElement('div');\n",
       "          docLink.innerHTML = docLinkHtml;\n",
       "          element.appendChild(docLink);\n",
       "        }\n",
       "      </script>\n",
       "    </div>\n",
       "  </div>\n",
       "  "
      ]
     },
     "metadata": {},
     "execution_count": 133
    }
   ]
  },
  {
   "cell_type": "code",
   "source": [
    "# lets split the Target Column race from the Dataset\n",
    "\n",
    "\n",
    "y = df_clean[\"race\"]\n",
    "x = df_clean.drop([\"race\"], axis=1)\n",
    "\n",
    "# lets check the shape of the dataset\n",
    "print(\"Shape of x: \", x.shape)\n",
    "print(\"Shape of y: \", y.shape)"
   ],
   "metadata": {
    "colab": {
     "base_uri": "https://localhost:8080/"
    },
    "id": "39Y8e0HJZ-kW",
    "outputId": "e3dedcc6-56f1-49f2-e2b2-e7de53b6f9ff"
   },
   "execution_count": 134,
   "outputs": [
    {
     "output_type": "stream",
     "name": "stdout",
     "text": [
      "Shape of x:  (1986, 7)\n",
      "Shape of y:  (1986,)\n"
     ]
    }
   ]
  },
  {
   "cell_type": "code",
   "source": [
    "# Spiltting dataset into train and tests\n",
    "\n",
    "from sklearn.model_selection import train_test_split\n",
    "\n",
    "X_train, X_test, Y_train, Y_test = train_test_split(x, y, test_size=0.2, random_state=0)\n",
    "print(\"Shape of X_train is \", X_train.shape)\n",
    "print(\"Shape of X_test is \", X_test.shape)\n",
    "print(\"Shape of Y_train is \", Y_train.shape)\n",
    "print(\"Shape of Y_test is \", Y_test.shape)"
   ],
   "metadata": {
    "colab": {
     "base_uri": "https://localhost:8080/"
    },
    "id": "kqfY_yQhbs_P",
    "outputId": "531af547-1cf8-46b2-807a-a1038b0123e1"
   },
   "execution_count": 135,
   "outputs": [
    {
     "output_type": "stream",
     "name": "stdout",
     "text": [
      "Shape of X_train is  (1588, 7)\n",
      "Shape of X_test is  (398, 7)\n",
      "Shape of Y_train is  (1588,)\n",
      "Shape of Y_test is  (398,)\n"
     ]
    }
   ]
  },
  {
   "cell_type": "markdown",
   "source": [
    "**Standardization**\n",
    "\n",
    "Standardization makes the values of each feature in the data have zero-mean (when subtracting the mean in the numerator) and unit-variance. This method is widely used for normalization in many machine learning algorithms."
   ],
   "metadata": {
    "id": "tact8VDLbeq3"
   }
  },
  {
   "cell_type": "code",
   "source": [
    "# Standardization\n",
    "\n",
    "from sklearn.preprocessing import MinMaxScaler\n",
    "\n",
    "sc = MinMaxScaler()\n",
    "X_train_sc = sc.fit_transform(X_train)\n",
    "X_test_sc = sc.transform(X_test)"
   ],
   "metadata": {
    "id": "zkvuJ_IpgCAP"
   },
   "execution_count": 136,
   "outputs": []
  },
  {
   "cell_type": "code",
   "source": [
    "from sklearn.decomposition import PCA\n",
    "\n",
    "pca = PCA(n_components=None)\n",
    "x_train_pca = pca.fit_transform(X_train_sc)\n",
    "x_test_pca = pca.transform(X_test_sc)"
   ],
   "metadata": {
    "id": "MINe2sdShm0J"
   },
   "execution_count": 137,
   "outputs": []
  },
  {
   "cell_type": "code",
   "source": [
    "# This result the variance explained by the number of components taken into account\n",
    "\n",
    "pca.explained_variance_ratio_.cumsum()"
   ],
   "metadata": {
    "colab": {
     "base_uri": "https://localhost:8080/"
    },
    "id": "0ef2-S_ihuBp",
    "outputId": "f5e55855-2cb5-4c2a-87a2-e827fb7ad29a"
   },
   "execution_count": 138,
   "outputs": [
    {
     "output_type": "execute_result",
     "data": {
      "text/plain": [
       "array([0.34147729, 0.51908699, 0.65835232, 0.78190525, 0.88014143,\n",
       "       0.9547696 , 1.        ])"
      ]
     },
     "metadata": {},
     "execution_count": 138
    }
   ]
  },
  {
   "cell_type": "markdown",
   "source": [
    "it explains the 5 components itself has more than 88 % variance."
   ],
   "metadata": {
    "id": "otOz1XSCiD0q"
   }
  },
  {
   "cell_type": "code",
   "source": [
    "# Plotting the results\n",
    "plt.figure(figsize=(10, 8))\n",
    "plt.plot(np.cumsum(pca.explained_variance_ratio_), c=\"r\", marker=\"o\")\n",
    "# np.cumcum - Returns the cumulative sum of the elements along a given axis.\n",
    "plt.xlabel(\"Number of Components\")\n",
    "plt.ylabel(\"Variance (%)\")  # for each component\n",
    "plt.xticks([i + 1 for i in range(len(pca.explained_variance_ratio_))], fontsize=15)\n",
    "plt.yticks(fontsize=15)\n",
    "plt.title(\"Explained Variance\")\n",
    "plt.show()"
   ],
   "metadata": {
    "colab": {
     "base_uri": "https://localhost:8080/",
     "height": 523
    },
    "id": "CEdXj5I6iEjh",
    "outputId": "f12de9a1-4d0a-4b3c-8331-b837eac73b39"
   },
   "execution_count": 139,
   "outputs": [
    {
     "output_type": "display_data",
     "data": {
      "text/plain": [
       "<Figure size 720x576 with 1 Axes>"
      ],
      "image/png": "[encoded data removed]"
     },
     "metadata": {}
    }
   ]
  },
  {
   "cell_type": "markdown",
   "source": [
    "I am taking only two components which consists above 50% variance for this project"
   ],
   "metadata": {
    "id": "1m10dinu1Pbd"
   }
  },
  {
   "cell_type": "code",
   "source": [
    "# repeating PCA with only 2 components to be able to plot it\n",
    "\n",
    "pca = PCA(n_components=2)\n",
    "x_train_pca = pca.fit_transform(X_train_sc)\n",
    "x_test_pca = pca.transform(X_test_sc)"
   ],
   "metadata": {
    "id": "dNfuU-F51jBL"
   },
   "execution_count": 140,
   "outputs": []
  },
  {
   "cell_type": "code",
   "source": [
    "print(\n",
    "    f\"The 2 components account for {round(np.sum(pca.explained_variance_ratio_)*100, 2)}% variance\"\n",
    ")"
   ],
   "metadata": {
    "colab": {
     "base_uri": "https://localhost:8080/"
    },
    "id": "n4HoNeNZ1oVO",
    "outputId": "d880f3e2-766e-4293-af92-8b698d95928e"
   },
   "execution_count": 141,
   "outputs": [
    {
     "output_type": "stream",
     "name": "stdout",
     "text": [
      "The 2 components account for 51.91% variance\n"
     ]
    }
   ]
  },
  {
   "cell_type": "code",
   "source": [
    "df = pd.DataFrame(\n",
    "    {\"x_train_pca0\": x_train_pca[:, 0], \"x_train_pca1\": x_train_pca[:, 1], \"race\": Y_train}\n",
    ")\n",
    "df"
   ],
   "metadata": {
    "colab": {
     "base_uri": "https://localhost:8080/",
     "height": 424
    },
    "id": "rve5JhPAjLlZ",
    "outputId": "6793ba1c-89d6-46dc-8790-3621ce96b1fb"
   },
   "execution_count": 142,
   "outputs": [
    {
     "output_type": "execute_result",
     "data": {
      "text/plain": [
       "      x_train_pca0  x_train_pca1  race\n",
       "318       0.747350     -0.132879     2\n",
       "1732      0.782705     -0.118530     1\n",
       "1084     -0.228939     -0.121208     1\n",
       "1626     -0.223572      0.873791     2\n",
       "251      -0.221159      0.873589     1\n",
       "...            ...           ...   ...\n",
       "835      -0.330647     -0.100265     5\n",
       "1216      0.789261     -0.144133     5\n",
       "1653     -0.332255     -0.100130     5\n",
       "559      -0.226527     -0.121410     1\n",
       "684       0.674592     -0.114357     2\n",
       "\n",
       "[1588 rows x 3 columns]"
      ],
      "text/html": [
       "\n",
       "  <div id=\"df-71246d1d-b335-4362-8d74-6dc240566ad8\">\n",
       "    <div class=\"colab-df-container\">\n",
       "      <div>\n",
       "<style scoped>\n",
       "    .dataframe tbody tr th:only-of-type {\n",
       "        vertical-align: middle;\n",
       "    }\n",
       "\n",
       "    .dataframe tbody tr th {\n",
       "        vertical-align: top;\n",
       "    }\n",
       "\n",
       "    .dataframe thead th {\n",
       "        text-align: right;\n",
       "    }\n",
       "</style>\n",
       "<table border=\"1\" class=\"dataframe\">\n",
       "  <thead>\n",
       "    <tr style=\"text-align: right;\">\n",
       "      <th></th>\n",
       "      <th>x_train_pca0</th>\n",
       "      <th>x_train_pca1</th>\n",
       "      <th>race</th>\n",
       "    </tr>\n",
       "  </thead>\n",
       "  <tbody>\n",
       "    <tr>\n",
       "      <th>318</th>\n",
       "      <td>0.747350</td>\n",
       "      <td>-0.132879</td>\n",
       "      <td>2</td>\n",
       "    </tr>\n",
       "    <tr>\n",
       "      <th>1732</th>\n",
       "      <td>0.782705</td>\n",
       "      <td>-0.118530</td>\n",
       "      <td>1</td>\n",
       "    </tr>\n",
       "    <tr>\n",
       "      <th>1084</th>\n",
       "      <td>-0.228939</td>\n",
       "      <td>-0.121208</td>\n",
       "      <td>1</td>\n",
       "    </tr>\n",
       "    <tr>\n",
       "      <th>1626</th>\n",
       "      <td>-0.223572</td>\n",
       "      <td>0.873791</td>\n",
       "      <td>2</td>\n",
       "    </tr>\n",
       "    <tr>\n",
       "      <th>251</th>\n",
       "      <td>-0.221159</td>\n",
       "      <td>0.873589</td>\n",
       "      <td>1</td>\n",
       "    </tr>\n",
       "    <tr>\n",
       "      <th>...</th>\n",
       "      <td>...</td>\n",
       "      <td>...</td>\n",
       "      <td>...</td>\n",
       "    </tr>\n",
       "    <tr>\n",
       "      <th>835</th>\n",
       "      <td>-0.330647</td>\n",
       "      <td>-0.100265</td>\n",
       "      <td>5</td>\n",
       "    </tr>\n",
       "    <tr>\n",
       "      <th>1216</th>\n",
       "      <td>0.789261</td>\n",
       "      <td>-0.144133</td>\n",
       "      <td>5</td>\n",
       "    </tr>\n",
       "    <tr>\n",
       "      <th>1653</th>\n",
       "      <td>-0.332255</td>\n",
       "      <td>-0.100130</td>\n",
       "      <td>5</td>\n",
       "    </tr>\n",
       "    <tr>\n",
       "      <th>559</th>\n",
       "      <td>-0.226527</td>\n",
       "      <td>-0.121410</td>\n",
       "      <td>1</td>\n",
       "    </tr>\n",
       "    <tr>\n",
       "      <th>684</th>\n",
       "      <td>0.674592</td>\n",
       "      <td>-0.114357</td>\n",
       "      <td>2</td>\n",
       "    </tr>\n",
       "  </tbody>\n",
       "</table>\n",
       "<p>1588 rows × 3 columns</p>\n",
       "</div>\n",
       "      <button class=\"colab-df-convert\" onclick=\"convertToInteractive('df-71246d1d-b335-4362-8d74-6dc240566ad8')\"\n",
       "              title=\"Convert this dataframe to an interactive table.\"\n",
       "              style=\"display:none;\">\n",
       "        \n",
       "  <svg xmlns=\"http://www.w3.org/2000/svg\" height=\"24px\"viewBox=\"0 0 24 24\"\n",
       "       width=\"24px\">\n",
       "    <path d=\"M0 0h24v24H0V0z\" fill=\"none\"/>\n",
       "    <path d=\"M18.56 5.44l.94 2.06.94-2.06 2.06-.94-2.06-.94-.94-2.06-.94 2.06-2.06.94zm-11 1L8.5 8.5l.94-2.06 2.06-.94-2.06-.94L8.5 2.5l-.94 2.06-2.06.94zm10 10l.94 2.06.94-2.06 2.06-.94-2.06-.94-.94-2.06-.94 2.06-2.06.94z\"/><path d=\"M17.41 7.96l-1.37-1.37c-.4-.4-.92-.59-1.43-.59-.52 0-1.04.2-1.43.59L10.3 9.45l-7.72 7.72c-.78.78-.78 2.05 0 2.83L4 21.41c.39.39.9.59 1.41.59.51 0 1.02-.2 1.41-.59l7.78-7.78 2.81-2.81c.8-.78.8-2.07 0-2.86zM5.41 20L4 18.59l7.72-7.72 1.47 1.35L5.41 20z\"/>\n",
       "  </svg>\n",
       "      </button>\n",
       "      \n",
       "  <style>\n",
       "    .colab-df-container {\n",
       "      display:flex;\n",
       "      flex-wrap:wrap;\n",
       "      gap: 12px;\n",
       "    }\n",
       "\n",
       "    .colab-df-convert {\n",
       "      background-color: #E8F0FE;\n",
       "      border: none;\n",
       "      border-radius: 50%;\n",
       "      cursor: pointer;\n",
       "      display: none;\n",
       "      fill: #1967D2;\n",
       "      height: 32px;\n",
       "      padding: 0 0 0 0;\n",
       "      width: 32px;\n",
       "    }\n",
       "\n",
       "    .colab-df-convert:hover {\n",
       "      background-color: #E2EBFA;\n",
       "      box-shadow: 0px 1px 2px rgba(60, 64, 67, 0.3), 0px 1px 3px 1px rgba(60, 64, 67, 0.15);\n",
       "      fill: #174EA6;\n",
       "    }\n",
       "\n",
       "    [theme=dark] .colab-df-convert {\n",
       "      background-color: #3B4455;\n",
       "      fill: #D2E3FC;\n",
       "    }\n",
       "\n",
       "    [theme=dark] .colab-df-convert:hover {\n",
       "      background-color: #434B5C;\n",
       "      box-shadow: 0px 1px 3px 1px rgba(0, 0, 0, 0.15);\n",
       "      filter: drop-shadow(0px 1px 2px rgba(0, 0, 0, 0.3));\n",
       "      fill: #FFFFFF;\n",
       "    }\n",
       "  </style>\n",
       "\n",
       "      <script>\n",
       "        const buttonEl =\n",
       "          document.querySelector('#df-71246d1d-b335-4362-8d74-6dc240566ad8 button.colab-df-convert');\n",
       "        buttonEl.style.display =\n",
       "          google.colab.kernel.accessAllowed ? 'block' : 'none';\n",
       "\n",
       "        async function convertToInteractive(key) {\n",
       "          const element = document.querySelector('#df-71246d1d-b335-4362-8d74-6dc240566ad8');\n",
       "          const dataTable =\n",
       "            await google.colab.kernel.invokeFunction('convertToInteractive',\n",
       "                                                     [key], {});\n",
       "          if (!dataTable) return;\n",
       "\n",
       "          const docLinkHtml = 'Like what you see? Visit the ' +\n",
       "            '<a target=\"_blank\" href=https://colab.research.google.com/notebooks/data_table.ipynb>data table notebook</a>'\n",
       "            + ' to learn more about interactive tables.';\n",
       "          element.innerHTML = '';\n",
       "          dataTable['output_type'] = 'display_data';\n",
       "          await google.colab.output.renderOutput(dataTable, element);\n",
       "          const docLink = document.createElement('div');\n",
       "          docLink.innerHTML = docLinkHtml;\n",
       "          element.appendChild(docLink);\n",
       "        }\n",
       "      </script>\n",
       "    </div>\n",
       "  </div>\n",
       "  "
      ]
     },
     "metadata": {},
     "execution_count": 142
    }
   ]
  },
  {
   "cell_type": "code",
   "source": [
    "# Plotting the results\n",
    "plt.figure(figsize=(10, 8))\n",
    "sns.scatterplot(df[\"x_train_pca0\"], df[\"x_train_pca1\"], hue=df[\"race\"])"
   ],
   "metadata": {
    "colab": {
     "base_uri": "https://localhost:8080/",
     "height": 519
    },
    "id": "G3mGdRtGyz1U",
    "outputId": "41ab1658-e7e4-4909-ea46-955ff3212d6c"
   },
   "execution_count": 143,
   "outputs": [
    {
     "output_type": "execute_result",
     "data": {
      "text/plain": [
       "<matplotlib.axes._subplots.AxesSubplot at 0x7fce5aecbfd0>"
      ]
     },
     "metadata": {},
     "execution_count": 143
    },
    {
     "output_type": "display_data",
     "data": {
      "text/plain": [
       "<Figure size 720x576 with 1 Axes>"
      ],
      "image/png": "[encoded data removed]"
     },
     "metadata": {}
    }
   ]
  },
  {
   "cell_type": "markdown",
   "source": [
    "**Findings**\n",
    "\n",
    "As we can see, principal component analysis forms four distinct clusters of data and there is still some separation by race between the clusters even though using only two principal components accounted for 52% of the variance\n",
    "\n"
   ],
   "metadata": {
    "id": "0uL_2n9X4wCv"
   }
  },
  {
   "cell_type": "markdown",
   "source": [
    "# **7.t-SNE**\n",
    "\n",
    "\n",
    "t-distributed stochastic neighbor embedding is a machine learning algorithm for visualization based on Stochastic Neighbor Embedding\n",
    "\n",
    " originally developed by Sam Roweis and Geoffrey Hinton, where Laurens van der Maaten proposed the t-distributed variant."
   ],
   "metadata": {
    "id": "QoH0VtJm18iH"
   }
  },
  {
   "cell_type": "code",
   "source": [
    "from sklearn.manifold import TSNE\n",
    "\n",
    "tsne = TSNE(n_components=2)\n",
    "x_train_tsne = pca.fit_transform(X_train_sc)\n",
    "x_test_tsne = pca.transform(X_test_sc)"
   ],
   "metadata": {
    "id": "DZ9gziy-0AkL"
   },
   "execution_count": 144,
   "outputs": []
  },
  {
   "cell_type": "code",
   "source": [
    "df1 = pd.DataFrame(\n",
    "    {\"x_train_tsne0\": x_train_tsne[:, 0], \"x_train_tsne1\": x_train_tsne[:, 1], \"race\": Y_train}\n",
    ")\n",
    "df1"
   ],
   "metadata": {
    "colab": {
     "base_uri": "https://localhost:8080/",
     "height": 424
    },
    "id": "4c4-fqAE3Gk2",
    "outputId": "f8b4655e-a686-48d8-a630-475ed611e181"
   },
   "execution_count": 145,
   "outputs": [
    {
     "output_type": "execute_result",
     "data": {
      "text/plain": [
       "      x_train_tsne0  x_train_tsne1  race\n",
       "318        0.747350      -0.132879     2\n",
       "1732       0.782705      -0.118530     1\n",
       "1084      -0.228939      -0.121208     1\n",
       "1626      -0.223572       0.873791     2\n",
       "251       -0.221159       0.873589     1\n",
       "...             ...            ...   ...\n",
       "835       -0.330647      -0.100265     5\n",
       "1216       0.789261      -0.144133     5\n",
       "1653      -0.332255      -0.100130     5\n",
       "559       -0.226527      -0.121410     1\n",
       "684        0.674592      -0.114357     2\n",
       "\n",
       "[1588 rows x 3 columns]"
      ],
      "text/html": [
       "\n",
       "  <div id=\"df-b87ca487-43c1-4107-9f28-6b9a7e6a3a8f\">\n",
       "    <div class=\"colab-df-container\">\n",
       "      <div>\n",
       "<style scoped>\n",
       "    .dataframe tbody tr th:only-of-type {\n",
       "        vertical-align: middle;\n",
       "    }\n",
       "\n",
       "    .dataframe tbody tr th {\n",
       "        vertical-align: top;\n",
       "    }\n",
       "\n",
       "    .dataframe thead th {\n",
       "        text-align: right;\n",
       "    }\n",
       "</style>\n",
       "<table border=\"1\" class=\"dataframe\">\n",
       "  <thead>\n",
       "    <tr style=\"text-align: right;\">\n",
       "      <th></th>\n",
       "      <th>x_train_tsne0</th>\n",
       "      <th>x_train_tsne1</th>\n",
       "      <th>race</th>\n",
       "    </tr>\n",
       "  </thead>\n",
       "  <tbody>\n",
       "    <tr>\n",
       "      <th>318</th>\n",
       "      <td>0.747350</td>\n",
       "      <td>-0.132879</td>\n",
       "      <td>2</td>\n",
       "    </tr>\n",
       "    <tr>\n",
       "      <th>1732</th>\n",
       "      <td>0.782705</td>\n",
       "      <td>-0.118530</td>\n",
       "      <td>1</td>\n",
       "    </tr>\n",
       "    <tr>\n",
       "      <th>1084</th>\n",
       "      <td>-0.228939</td>\n",
       "      <td>-0.121208</td>\n",
       "      <td>1</td>\n",
       "    </tr>\n",
       "    <tr>\n",
       "      <th>1626</th>\n",
       "      <td>-0.223572</td>\n",
       "      <td>0.873791</td>\n",
       "      <td>2</td>\n",
       "    </tr>\n",
       "    <tr>\n",
       "      <th>251</th>\n",
       "      <td>-0.221159</td>\n",
       "      <td>0.873589</td>\n",
       "      <td>1</td>\n",
       "    </tr>\n",
       "    <tr>\n",
       "      <th>...</th>\n",
       "      <td>...</td>\n",
       "      <td>...</td>\n",
       "      <td>...</td>\n",
       "    </tr>\n",
       "    <tr>\n",
       "      <th>835</th>\n",
       "      <td>-0.330647</td>\n",
       "      <td>-0.100265</td>\n",
       "      <td>5</td>\n",
       "    </tr>\n",
       "    <tr>\n",
       "      <th>1216</th>\n",
       "      <td>0.789261</td>\n",
       "      <td>-0.144133</td>\n",
       "      <td>5</td>\n",
       "    </tr>\n",
       "    <tr>\n",
       "      <th>1653</th>\n",
       "      <td>-0.332255</td>\n",
       "      <td>-0.100130</td>\n",
       "      <td>5</td>\n",
       "    </tr>\n",
       "    <tr>\n",
       "      <th>559</th>\n",
       "      <td>-0.226527</td>\n",
       "      <td>-0.121410</td>\n",
       "      <td>1</td>\n",
       "    </tr>\n",
       "    <tr>\n",
       "      <th>684</th>\n",
       "      <td>0.674592</td>\n",
       "      <td>-0.114357</td>\n",
       "      <td>2</td>\n",
       "    </tr>\n",
       "  </tbody>\n",
       "</table>\n",
       "<p>1588 rows × 3 columns</p>\n",
       "</div>\n",
       "      <button class=\"colab-df-convert\" onclick=\"convertToInteractive('df-b87ca487-43c1-4107-9f28-6b9a7e6a3a8f')\"\n",
       "              title=\"Convert this dataframe to an interactive table.\"\n",
       "              style=\"display:none;\">\n",
       "        \n",
       "  <svg xmlns=\"http://www.w3.org/2000/svg\" height=\"24px\"viewBox=\"0 0 24 24\"\n",
       "       width=\"24px\">\n",
       "    <path d=\"M0 0h24v24H0V0z\" fill=\"none\"/>\n",
       "    <path d=\"M18.56 5.44l.94 2.06.94-2.06 2.06-.94-2.06-.94-.94-2.06-.94 2.06-2.06.94zm-11 1L8.5 8.5l.94-2.06 2.06-.94-2.06-.94L8.5 2.5l-.94 2.06-2.06.94zm10 10l.94 2.06.94-2.06 2.06-.94-2.06-.94-.94-2.06-.94 2.06-2.06.94z\"/><path d=\"M17.41 7.96l-1.37-1.37c-.4-.4-.92-.59-1.43-.59-.52 0-1.04.2-1.43.59L10.3 9.45l-7.72 7.72c-.78.78-.78 2.05 0 2.83L4 21.41c.39.39.9.59 1.41.59.51 0 1.02-.2 1.41-.59l7.78-7.78 2.81-2.81c.8-.78.8-2.07 0-2.86zM5.41 20L4 18.59l7.72-7.72 1.47 1.35L5.41 20z\"/>\n",
       "  </svg>\n",
       "      </button>\n",
       "      \n",
       "  <style>\n",
       "    .colab-df-container {\n",
       "      display:flex;\n",
       "      flex-wrap:wrap;\n",
       "      gap: 12px;\n",
       "    }\n",
       "\n",
       "    .colab-df-convert {\n",
       "      background-color: #E8F0FE;\n",
       "      border: none;\n",
       "      border-radius: 50%;\n",
       "      cursor: pointer;\n",
       "      display: none;\n",
       "      fill: #1967D2;\n",
       "      height: 32px;\n",
       "      padding: 0 0 0 0;\n",
       "      width: 32px;\n",
       "    }\n",
       "\n",
       "    .colab-df-convert:hover {\n",
       "      background-color: #E2EBFA;\n",
       "      box-shadow: 0px 1px 2px rgba(60, 64, 67, 0.3), 0px 1px 3px 1px rgba(60, 64, 67, 0.15);\n",
       "      fill: #174EA6;\n",
       "    }\n",
       "\n",
       "    [theme=dark] .colab-df-convert {\n",
       "      background-color: #3B4455;\n",
       "      fill: #D2E3FC;\n",
       "    }\n",
       "\n",
       "    [theme=dark] .colab-df-convert:hover {\n",
       "      background-color: #434B5C;\n",
       "      box-shadow: 0px 1px 3px 1px rgba(0, 0, 0, 0.15);\n",
       "      filter: drop-shadow(0px 1px 2px rgba(0, 0, 0, 0.3));\n",
       "      fill: #FFFFFF;\n",
       "    }\n",
       "  </style>\n",
       "\n",
       "      <script>\n",
       "        const buttonEl =\n",
       "          document.querySelector('#df-b87ca487-43c1-4107-9f28-6b9a7e6a3a8f button.colab-df-convert');\n",
       "        buttonEl.style.display =\n",
       "          google.colab.kernel.accessAllowed ? 'block' : 'none';\n",
       "\n",
       "        async function convertToInteractive(key) {\n",
       "          const element = document.querySelector('#df-b87ca487-43c1-4107-9f28-6b9a7e6a3a8f');\n",
       "          const dataTable =\n",
       "            await google.colab.kernel.invokeFunction('convertToInteractive',\n",
       "                                                     [key], {});\n",
       "          if (!dataTable) return;\n",
       "\n",
       "          const docLinkHtml = 'Like what you see? Visit the ' +\n",
       "            '<a target=\"_blank\" href=https://colab.research.google.com/notebooks/data_table.ipynb>data table notebook</a>'\n",
       "            + ' to learn more about interactive tables.';\n",
       "          element.innerHTML = '';\n",
       "          dataTable['output_type'] = 'display_data';\n",
       "          await google.colab.output.renderOutput(dataTable, element);\n",
       "          const docLink = document.createElement('div');\n",
       "          docLink.innerHTML = docLinkHtml;\n",
       "          element.appendChild(docLink);\n",
       "        }\n",
       "      </script>\n",
       "    </div>\n",
       "  </div>\n",
       "  "
      ]
     },
     "metadata": {},
     "execution_count": 145
    }
   ]
  },
  {
   "cell_type": "code",
   "source": [
    "# lets create a plot\n",
    "# Plotting the results\n",
    "plt.figure(figsize=(10, 8))\n",
    "sns.scatterplot(df1[\"x_train_tsne0\"], df1[\"x_train_tsne1\"], hue=df1[\"race\"])"
   ],
   "metadata": {
    "colab": {
     "base_uri": "https://localhost:8080/",
     "height": 519
    },
    "id": "E_7qrZ3K2jry",
    "outputId": "f0dd127d-d24a-4969-a0de-5b08bf80f0c1"
   },
   "execution_count": 146,
   "outputs": [
    {
     "output_type": "execute_result",
     "data": {
      "text/plain": [
       "<matplotlib.axes._subplots.AxesSubplot at 0x7fce5ae67af0>"
      ]
     },
     "metadata": {},
     "execution_count": 146
    },
    {
     "output_type": "display_data",
     "data": {
      "text/plain": [
       "<Figure size 720x576 with 1 Axes>"
      ],
      "image/png": "[encoded data removed]"
     },
     "metadata": {}
    }
   ]
  },
  {
   "cell_type": "markdown",
   "source": [
    "**Findings:**\n",
    "\n",
    "The graph shows , t-SNE performed similar to PCA "
   ],
   "metadata": {
    "id": "qZtDg5HY4c1d"
   }
  },
  {
   "cell_type": "markdown",
   "source": [
    "# **8.Cluster analysis**"
   ],
   "metadata": {
    "id": "XMnuwr5eemNS"
   }
  },
  {
   "cell_type": "markdown",
   "source": [
    "Clustering is an unsupervised approach which finds a structure/pattern in a collection of unlabeled data. A cluster is a collection of objects which are “similar” amongst themselves and are “dissimilar” to the objects belonging to a different cluster"
   ],
   "metadata": {
    "id": "a8RxGJUmhFKL"
   }
  },
  {
   "cell_type": "markdown",
   "source": [
    "**8.1 elbow technique ti find optimal k**\n",
    "\n",
    "Elbow method is the most popular method that is used to determine the optimal value of k.\n",
    "\n",
    "How it works?\n",
    "\n",
    "Start with some K.\n",
    "\n",
    "Calculate WCSS (Within Cluster Sum of squared errors) ie., for each of the cluster, it calculate the distance of individual data points from the centroid, then square it and sum it up.\n",
    "\n",
    "       WCSS = WCSS1 + WCSS2 + ..... WCSSk\n",
    "Take new value for K, repeat step2.\n",
    "\n",
    "For each number of K, WCSS is calculated.\n",
    "\n",
    "Find the elbow point. That is the optimal value of K.\n",
    "\n"
   ],
   "metadata": {
    "id": "QHPVE2Qihqis"
   }
  },
  {
   "cell_type": "code",
   "source": [
    "# x=df_clean\n",
    "# x.head()"
   ],
   "metadata": {
    "id": "GyctMV8loV_M"
   },
   "execution_count": 147,
   "outputs": []
  },
  {
   "cell_type": "code",
   "source": [
    "# elbow method\n",
    "from sklearn.cluster import KMeans\n",
    "\n",
    "wcss = []\n",
    "for i in range(1, 11):\n",
    "    kmeans = KMeans(n_clusters=i, random_state=42)\n",
    "    kmeans.fit(x)\n",
    "    wcss.append(kmeans.inertia_)\n",
    "plt.plot(range(1, 11), wcss, \"bx-\")\n",
    "plt.title(\"The Elbow Method\")\n",
    "plt.xlabel(\"Number of clusters\")\n",
    "plt.ylabel(\"WCSS\")\n",
    "plt.show()"
   ],
   "metadata": {
    "colab": {
     "base_uri": "https://localhost:8080/",
     "height": 301
    },
    "id": "nrUKMc8M4hOH",
    "outputId": "03d3a9c1-08ca-413a-e9b3-3b3f4cc02a5c"
   },
   "execution_count": 148,
   "outputs": [
    {
     "output_type": "display_data",
     "data": {
      "text/plain": [
       "<Figure size 432x288 with 1 Axes>"
      ],
      "image/png": "[encoded data removed]"
     },
     "metadata": {}
    }
   ]
  },
  {
   "cell_type": "markdown",
   "source": [
    "by seeing the graph, the optimal k is either at 4  so I will perform k-means clustering with the k of 4\n",
    "\n"
   ],
   "metadata": {
    "id": "_obrXXNRjN3m"
   }
  },
  {
   "cell_type": "markdown",
   "source": [
    "# **9.Machine Learning Model**"
   ],
   "metadata": {
    "id": "8LisE_IhxP8F"
   }
  },
  {
   "cell_type": "markdown",
   "source": [
    "**KNN Model**"
   ],
   "metadata": {
    "id": "P-3qm3FkyrtK"
   }
  },
  {
   "cell_type": "code",
   "source": [
    "from sklearn.neighbors import KNeighborsClassifier\n",
    "\n",
    "knn_model = KNeighborsClassifier(n_neighbors=1)\n",
    "knn_model.fit(X_train_sc, Y_train)"
   ],
   "metadata": {
    "colab": {
     "base_uri": "https://localhost:8080/"
    },
    "id": "M_A4EIGsx2M6",
    "outputId": "b5c674f3-a813-4922-aa17-85f12f696957"
   },
   "execution_count": 165,
   "outputs": [
    {
     "output_type": "execute_result",
     "data": {
      "text/plain": [
       "KNeighborsClassifier(n_neighbors=1)"
      ]
     },
     "metadata": {},
     "execution_count": 165
    }
   ]
  },
  {
   "cell_type": "markdown",
   "source": [
    "**Model Evaluation**"
   ],
   "metadata": {
    "id": "PTE26hipzMij"
   }
  },
  {
   "cell_type": "code",
   "source": [
    "y_pred = knn_model.predict(X_test_sc)"
   ],
   "metadata": {
    "id": "XEkTB3ZRzOgS"
   },
   "execution_count": 167,
   "outputs": []
  },
  {
   "cell_type": "code",
   "source": [
    "from sklearn.metrics import classification_report, confusion_matrix, accuracy_score"
   ],
   "metadata": {
    "id": "0OwJyYsizRZk"
   },
   "execution_count": 168,
   "outputs": []
  },
  {
   "cell_type": "code",
   "source": [
    "accuracy_score(Y_test, y_pred)"
   ],
   "metadata": {
    "colab": {
     "base_uri": "https://localhost:8080/"
    },
    "id": "TMb2IzH2zhsB",
    "outputId": "4b818a59-100f-4dfc-9def-d0ea4c674078"
   },
   "execution_count": 170,
   "outputs": [
    {
     "output_type": "execute_result",
     "data": {
      "text/plain": [
       "0.4296482412060301"
      ]
     },
     "metadata": {},
     "execution_count": 170
    }
   ]
  },
  {
   "cell_type": "code",
   "source": [
    "print(classification_report(Y_test, y_pred))"
   ],
   "metadata": {
    "colab": {
     "base_uri": "https://localhost:8080/"
    },
    "id": "q0BqBY8d0hBs",
    "outputId": "acbc0426-a6fb-442d-e171-62ceb81e587b"
   },
   "execution_count": 174,
   "outputs": [
    {
     "output_type": "stream",
     "name": "stdout",
     "text": [
      "              precision    recall  f1-score   support\n",
      "\n",
      "           0       0.00      0.00      0.00         5\n",
      "           1       0.34      0.35      0.35       110\n",
      "           2       0.12      0.10      0.11        62\n",
      "           3       0.00      0.00      0.00         4\n",
      "           4       0.00      0.00      0.00         4\n",
      "           5       0.61      0.59      0.60       213\n",
      "\n",
      "    accuracy                           0.43       398\n",
      "   macro avg       0.18      0.17      0.18       398\n",
      "weighted avg       0.44      0.43      0.43       398\n",
      "\n"
     ]
    }
   ]
  },
  {
   "cell_type": "markdown",
   "source": [
    "The model is avaerage, the proportion of white killing is 51% and our model predicted 42% with many features removed, and need more preprocessing, cleaning, and some hypermeter tuning makes the model to predict better"
   ],
   "metadata": {
    "id": "CO-4bgIM0ohG"
   }
  },
  {
   "cell_type": "markdown",
   "source": [
    "# **10.Conclusion**"
   ],
   "metadata": {
    "id": "GewzxXIN1TLr"
   }
  },
  {
   "cell_type": "markdown",
   "source": [
    "Most of the victims are killed by shooting;\n",
    "\n",
    "White and Black race people are the most affected;\n",
    "\n",
    "Black Race people are widely killed in the US comparing the relative proportion of the race in the United States;\n",
    "\n",
    "Males are more victims of fatal shootings than women;\n",
    "Victims with no sign of mental illness are three times than victims with a sign of mental illness;\n",
    "\n",
    "\n",
    "The absence of a body camera is more frequent with respect to its presence.\n",
    "\n",
    "Most of the victims were youngsters (aged between 20 -40)\n",
    "\n",
    "The states of California, Texas, and Florida have recorded the most number of deaths\n",
    "\n",
    "In conclusion, the data analysis suggests that most of the victims were killed in a suspicious matter. The rate was also almost twice as high for the black population.\n",
    "\n"
   ],
   "metadata": {
    "id": "7iNEat3d1gR_"
   }
  },
  {
   "cell_type": "code",
   "source": [],
   "metadata": {
    "id": "E2nNtm3V1KY_"
   },
   "execution_count": null,
   "outputs": []
  }
 ]
}